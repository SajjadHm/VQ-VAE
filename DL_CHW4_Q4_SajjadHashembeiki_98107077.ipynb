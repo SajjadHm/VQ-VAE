{
 "cells": [
  {
   "cell_type": "markdown",
   "id": "69e62f34",
   "metadata": {},
   "source": [
    "## ************************ Tow related video files are available in the repo! ************************"
   ]
  },
  {
   "cell_type": "markdown",
   "id": "e0aee39c",
   "metadata": {
    "id": "e0aee39c"
   },
   "source": [
    "# Part A"
   ]
  },
  {
   "cell_type": "markdown",
   "id": "9be099c9",
   "metadata": {
    "id": "9be099c9"
   },
   "source": [
    "\n",
    "- **Discrete Latent Space:** VQ-VAE is argued to effectively model important features that span many dimensions in data space, such as objects in images or phonemes in speech. The discrete latent space allows the model to focus on essential information rather than noise and imperceptible details.Discrete representations are potentially a more natural fit for many of the modalities we are interested in. Language is inherently discrete, similarly speech is typically represented as a sequence of symbols. Images can often be described concisely by language. Furthermore, discrete representations are a natural fit for complex reasoning.\n",
    "\n",
    "\n",
    "\n",
    "\n",
    "\n",
    "- **Posterior Collapse:** The VQ-VAE model is designed to avoid the \"posterior collapse\" issue, where latent variables are ignored, often caused by powerful decoders in VAE models."
   ]
  },
  {
   "cell_type": "markdown",
   "id": "ca7c9ea8",
   "metadata": {
    "id": "ca7c9ea8"
   },
   "source": [
    "# Part B"
   ]
  },
  {
   "cell_type": "code",
   "execution_count": 2,
   "id": "7wiyeHEOq0sv",
   "metadata": {
    "id": "7wiyeHEOq0sv"
   },
   "outputs": [],
   "source": [
    "# Import libraries\n",
    "import os\n",
    "import cv2\n",
    "import glob\n",
    "import torch\n",
    "import shutil\n",
    "import random\n",
    "import argparse\n",
    "import torchvision\n",
    "\n",
    "import numpy as np\n",
    "import torch.nn as nn\n",
    "import matplotlib.pyplot as plt\n",
    "\n",
    "from tqdm import tqdm\n",
    "from einops import einsum\n",
    "from einops import rearrange\n",
    "from torch.optim import Adam\n",
    "from torch.utils.data import DataLoader\n",
    "from torchvision.utils import make_grid\n",
    "from torchvision import datasets, transforms\n",
    "from torch.utils.data.dataset import Dataset\n",
    "from torch.utils.data.dataloader import DataLoader\n",
    "from torch.utils.data.dataloader import DataLoader"
   ]
  },
  {
   "cell_type": "code",
   "execution_count": 3,
   "id": "FV2866K-wFoH",
   "metadata": {
    "colab": {
     "base_uri": "https://localhost:8080/"
    },
    "id": "FV2866K-wFoH",
    "outputId": "e1d86d91-81e7-4b1d-edfc-1ca5e205602f"
   },
   "outputs": [],
   "source": [
    "# Load MNIST dataset\n",
    "transform = transforms.Compose([transforms.ToTensor()])\n",
    "train_dataset_temp = datasets.MNIST(root='./data', train=True, transform=transform, download=True)\n",
    "test_dataset_temp = datasets.MNIST(root='./data', train=False, transform=transform, download=True)"
   ]
  },
  {
   "cell_type": "code",
   "execution_count": 4,
   "id": "631a6fba",
   "metadata": {
    "id": "631a6fba"
   },
   "outputs": [],
   "source": [
    "# Create MnistDataset from loaded dataset and implement number of channels (1 or 3)\n",
    "class MnistDataset(Dataset):\n",
    "    def __init__(self, split, im_channels):\n",
    "        self.split = split\n",
    "        self.im_channels = im_channels\n",
    "        self.images, self.labels = self.load_images(split)\n",
    "\n",
    "    def load_images(self,split):\n",
    "        ims = []\n",
    "        labels = []\n",
    "        for idx in range(split.__len__()):\n",
    "            img, label = split.__getitem__(idx)\n",
    "            ims.append(np.array(img).reshape(28,28))\n",
    "            labels.append(label)\n",
    "\n",
    "        return ims, labels\n",
    "\n",
    "    def __len__(self):\n",
    "        return len(self.images)\n",
    "\n",
    "    def __getitem__(self, index):\n",
    "        if self.im_channels == 1:\n",
    "            im = self.images[index]\n",
    "        else:\n",
    "            # Generate a random color digit\n",
    "            im_1 = self.images[index][None, :]*np.clip(random.random(), 0.2, 1.0)\n",
    "            im_2 = self.images[index][None, :]*np.clip(random.random(), 0.2, 1.0)\n",
    "            im_3 = self.images[index][None, :]*np.clip(random.random(), 0.2, 1.0)\n",
    "            im = np.concatenate([im_1, im_2, im_3], axis=0)\n",
    "\n",
    "        label = self.labels[index]\n",
    "#         im = 2*im -1\n",
    "        im_tensor = torch.from_numpy(im)[None, :] if self.im_channels == 1 else torch.from_numpy(im)\n",
    "        return im_tensor, torch.as_tensor(label)"
   ]
  },
  {
   "cell_type": "code",
   "execution_count": 5,
   "id": "58dmVvsbF6eC",
   "metadata": {
    "colab": {
     "base_uri": "https://localhost:8080/",
     "height": 391
    },
    "id": "58dmVvsbF6eC",
    "outputId": "047ec8ee-9e6d-4759-f26e-e441ec4d08be"
   },
   "outputs": [
    {
     "name": "stdout",
     "output_type": "stream",
     "text": [
      "Image dimension: torch.Size([128, 3, 28, 28])\n",
      "Label dimension: torch.Size([128])\n"
     ]
    }
   ],
   "source": [
    "# Create mnist dataset object\n",
    "mnist = MnistDataset(split=train_dataset_temp, im_channels=3)\n",
    "\n",
    "# Create dataloader with batch_size = 128 \n",
    "mnist_loader = DataLoader(mnist, batch_size=128, shuffle=True, num_workers=0)\n",
    "for im, label in mnist_loader:\n",
    "    print('Image dimension:', im.shape)\n",
    "    print('Label dimension: {}'.format(label.shape))\n",
    "    break"
   ]
  },
  {
   "cell_type": "markdown",
   "id": "7d72b3b5",
   "metadata": {},
   "source": [
    "# Part C, D, & E"
   ]
  },
  {
   "cell_type": "code",
   "execution_count": 6,
   "id": "fe956d0a",
   "metadata": {},
   "outputs": [],
   "source": [
    "# Implement VQVAE claa\n",
    "class VQVAE(nn.Module):\n",
    "    def __init__(self):\n",
    "        super(VQVAE, self).__init__()\n",
    "        \n",
    "        # Encoder architecture\n",
    "        self.encoder = nn.Sequential(\n",
    "            nn.Conv2d(3, 16, 4, stride=2, padding=1),\n",
    "            nn.BatchNorm2d(16),\n",
    "            nn.ReLU(),\n",
    "            nn.Conv2d(16, 4, 4, stride=2, padding=1),\n",
    "            nn.BatchNorm2d(4),\n",
    "            nn.ReLU(),)\n",
    "        \n",
    "        self.pre_quant_conv = nn.Conv2d(4, 2, kernel_size=1)\n",
    "        self.embedding = nn.Embedding(num_embeddings=3, embedding_dim=2)\n",
    "        self.post_quant_conv = nn.Conv2d(2, 4, kernel_size=1)\n",
    "        \n",
    "        # Commitment Loss Beta\n",
    "        self.beta = 0.2\n",
    "        \n",
    "        # Decoder architecture\n",
    "        self.decoder = nn.Sequential(\n",
    "            nn.ConvTranspose2d(4, 16, 4, stride=2, padding=1),\n",
    "            nn.BatchNorm2d(16),\n",
    "            nn.ReLU(),\n",
    "            nn.ConvTranspose2d(16, 3, 4, stride=2, padding=1),\n",
    "            nn.Sigmoid(),)\n",
    "        \n",
    "    # forward path\n",
    "    def forward(self, x):\n",
    "        # B, C, H, W\n",
    "        encoded_output = self.encoder(x)\n",
    "        quant_input = self.pre_quant_conv(encoded_output)\n",
    "        \n",
    "        # Quantization\n",
    "        B, C, H, W = quant_input.shape\n",
    "        quant_input = quant_input.permute(0, 2, 3, 1)\n",
    "        quant_input = quant_input.reshape((quant_input.size(0), -1, quant_input.size(-1)))\n",
    "        \n",
    "        # Compute pairwise distances\n",
    "        dist = torch.cdist(quant_input, self.embedding.weight[None, :].repeat((quant_input.size(0), 1, 1)))\n",
    "        \n",
    "        # Find index of nearest embedding\n",
    "        min_encoding_indices = torch.argmin(dist, dim=-1)\n",
    "        \n",
    "        # Select the embedding weights\n",
    "        quant_out = torch.index_select(self.embedding.weight, 0, min_encoding_indices.view(-1))\n",
    "        quant_input = quant_input.reshape((-1, quant_input.size(-1)))\n",
    "        \n",
    "        # Save embedding weights(code book vectors)\n",
    "        codebookvecs = self.embedding.weight\n",
    "        \n",
    "        # Compute losses\n",
    "        commitment_loss = torch.mean((quant_out.detach() - quant_input)**2)\n",
    "        codebook_loss = torch.mean((quant_out - quant_input.detach())**2)\n",
    "        quantize_losses = codebook_loss + self.beta*commitment_loss\n",
    "        \n",
    "        # Ensure straight through gradient\n",
    "        quant_out = quant_input + (quant_out - quant_input).detach()\n",
    "        \n",
    "        # Reshaping back to original input shape\n",
    "        quant_out = quant_out.reshape((B, H, W, C)).permute(0, 3, 1, 2)\n",
    "        min_encoding_indices = min_encoding_indices.reshape((-1, quant_out.size(-2), quant_out.size(-1)))\n",
    "        \n",
    "        \n",
    "        ## Decoder part\n",
    "        decoder_input = self.post_quant_conv(quant_out)\n",
    "        output = self.decoder(decoder_input)\n",
    "        return output, quantize_losses, quant_out, codebookvecs"
   ]
  },
  {
   "cell_type": "markdown",
   "id": "3ca92ea0",
   "metadata": {},
   "source": [
    "# Part F"
   ]
  },
  {
   "cell_type": "code",
   "execution_count": 18,
   "id": "e1c11097",
   "metadata": {
    "scrolled": true
   },
   "outputs": [
    {
     "name": "stderr",
     "output_type": "stream",
     "text": [
      "100%|████████████████████████████████████████████████████████████████████████████████| 469/469 [00:40<00:00, 11.60it/s]\n"
     ]
    },
    {
     "name": "stdout",
     "output_type": "stream",
     "text": [
      "Finished epoch:1 || Tatal Loss:0.1854 || Reconstruction Loss:0.0391 || Quantization Loss:0.1463\n"
     ]
    },
    {
     "name": "stderr",
     "output_type": "stream",
     "text": [
      "100%|████████████████████████████████████████████████████████████████████████████████| 469/469 [00:40<00:00, 11.54it/s]\n"
     ]
    },
    {
     "name": "stdout",
     "output_type": "stream",
     "text": [
      "Finished epoch:2 || Tatal Loss:0.0509 || Reconstruction Loss:0.0188 || Quantization Loss:0.0320\n"
     ]
    },
    {
     "name": "stderr",
     "output_type": "stream",
     "text": [
      "100%|████████████████████████████████████████████████████████████████████████████████| 469/469 [00:40<00:00, 11.62it/s]\n"
     ]
    },
    {
     "name": "stdout",
     "output_type": "stream",
     "text": [
      "Finished epoch:3 || Tatal Loss:0.0473 || Reconstruction Loss:0.0181 || Quantization Loss:0.0292\n"
     ]
    },
    {
     "name": "stderr",
     "output_type": "stream",
     "text": [
      "100%|████████████████████████████████████████████████████████████████████████████████| 469/469 [00:40<00:00, 11.68it/s]\n"
     ]
    },
    {
     "name": "stdout",
     "output_type": "stream",
     "text": [
      "Finished epoch:4 || Tatal Loss:0.0453 || Reconstruction Loss:0.0178 || Quantization Loss:0.0275\n"
     ]
    },
    {
     "name": "stderr",
     "output_type": "stream",
     "text": [
      "100%|████████████████████████████████████████████████████████████████████████████████| 469/469 [00:39<00:00, 11.76it/s]\n"
     ]
    },
    {
     "name": "stdout",
     "output_type": "stream",
     "text": [
      "Finished epoch:5 || Tatal Loss:0.0455 || Reconstruction Loss:0.0176 || Quantization Loss:0.0279\n"
     ]
    },
    {
     "name": "stderr",
     "output_type": "stream",
     "text": [
      "100%|████████████████████████████████████████████████████████████████████████████████| 469/469 [00:40<00:00, 11.57it/s]\n"
     ]
    },
    {
     "name": "stdout",
     "output_type": "stream",
     "text": [
      "Finished epoch:6 || Tatal Loss:0.0451 || Reconstruction Loss:0.0176 || Quantization Loss:0.0275\n"
     ]
    },
    {
     "name": "stderr",
     "output_type": "stream",
     "text": [
      "100%|████████████████████████████████████████████████████████████████████████████████| 469/469 [00:40<00:00, 11.55it/s]\n"
     ]
    },
    {
     "name": "stdout",
     "output_type": "stream",
     "text": [
      "Finished epoch:7 || Tatal Loss:0.0432 || Reconstruction Loss:0.0175 || Quantization Loss:0.0257\n"
     ]
    },
    {
     "name": "stderr",
     "output_type": "stream",
     "text": [
      "100%|████████████████████████████████████████████████████████████████████████████████| 469/469 [00:40<00:00, 11.61it/s]\n"
     ]
    },
    {
     "name": "stdout",
     "output_type": "stream",
     "text": [
      "Finished epoch:8 || Tatal Loss:0.0433 || Reconstruction Loss:0.0174 || Quantization Loss:0.0259\n"
     ]
    },
    {
     "name": "stderr",
     "output_type": "stream",
     "text": [
      "100%|████████████████████████████████████████████████████████████████████████████████| 469/469 [00:40<00:00, 11.59it/s]\n"
     ]
    },
    {
     "name": "stdout",
     "output_type": "stream",
     "text": [
      "Finished epoch:9 || Tatal Loss:0.0442 || Reconstruction Loss:0.0173 || Quantization Loss:0.0269\n"
     ]
    },
    {
     "name": "stderr",
     "output_type": "stream",
     "text": [
      "100%|████████████████████████████████████████████████████████████████████████████████| 469/469 [00:40<00:00, 11.62it/s]\n"
     ]
    },
    {
     "name": "stdout",
     "output_type": "stream",
     "text": [
      "Finished epoch:10 || Tatal Loss:0.0410 || Reconstruction Loss:0.0171 || Quantization Loss:0.0239\n"
     ]
    },
    {
     "name": "stderr",
     "output_type": "stream",
     "text": [
      "100%|████████████████████████████████████████████████████████████████████████████████| 469/469 [00:40<00:00, 11.63it/s]\n"
     ]
    },
    {
     "name": "stdout",
     "output_type": "stream",
     "text": [
      "Finished epoch:11 || Tatal Loss:0.0368 || Reconstruction Loss:0.0181 || Quantization Loss:0.0187\n"
     ]
    },
    {
     "name": "stderr",
     "output_type": "stream",
     "text": [
      "100%|████████████████████████████████████████████████████████████████████████████████| 469/469 [00:40<00:00, 11.64it/s]\n"
     ]
    },
    {
     "name": "stdout",
     "output_type": "stream",
     "text": [
      "Finished epoch:12 || Tatal Loss:0.0350 || Reconstruction Loss:0.0192 || Quantization Loss:0.0158\n"
     ]
    },
    {
     "name": "stderr",
     "output_type": "stream",
     "text": [
      "100%|████████████████████████████████████████████████████████████████████████████████| 469/469 [00:40<00:00, 11.54it/s]\n"
     ]
    },
    {
     "name": "stdout",
     "output_type": "stream",
     "text": [
      "Finished epoch:13 || Tatal Loss:0.0346 || Reconstruction Loss:0.0206 || Quantization Loss:0.0139\n"
     ]
    },
    {
     "name": "stderr",
     "output_type": "stream",
     "text": [
      "100%|████████████████████████████████████████████████████████████████████████████████| 469/469 [00:40<00:00, 11.55it/s]\n"
     ]
    },
    {
     "name": "stdout",
     "output_type": "stream",
     "text": [
      "Finished epoch:14 || Tatal Loss:0.0345 || Reconstruction Loss:0.0213 || Quantization Loss:0.0132\n"
     ]
    },
    {
     "name": "stderr",
     "output_type": "stream",
     "text": [
      "100%|████████████████████████████████████████████████████████████████████████████████| 469/469 [00:40<00:00, 11.56it/s]\n"
     ]
    },
    {
     "name": "stdout",
     "output_type": "stream",
     "text": [
      "Finished epoch:15 || Tatal Loss:0.0337 || Reconstruction Loss:0.0220 || Quantization Loss:0.0117\n"
     ]
    },
    {
     "name": "stderr",
     "output_type": "stream",
     "text": [
      "100%|████████████████████████████████████████████████████████████████████████████████| 469/469 [00:40<00:00, 11.56it/s]\n"
     ]
    },
    {
     "name": "stdout",
     "output_type": "stream",
     "text": [
      "Finished epoch:16 || Tatal Loss:0.0246 || Reconstruction Loss:0.0138 || Quantization Loss:0.0108\n"
     ]
    },
    {
     "name": "stderr",
     "output_type": "stream",
     "text": [
      "100%|████████████████████████████████████████████████████████████████████████████████| 469/469 [00:40<00:00, 11.55it/s]\n"
     ]
    },
    {
     "name": "stdout",
     "output_type": "stream",
     "text": [
      "Finished epoch:17 || Tatal Loss:0.0234 || Reconstruction Loss:0.0132 || Quantization Loss:0.0103\n"
     ]
    },
    {
     "name": "stderr",
     "output_type": "stream",
     "text": [
      "100%|████████████████████████████████████████████████████████████████████████████████| 469/469 [00:40<00:00, 11.53it/s]\n"
     ]
    },
    {
     "name": "stdout",
     "output_type": "stream",
     "text": [
      "Finished epoch:18 || Tatal Loss:0.0241 || Reconstruction Loss:0.0132 || Quantization Loss:0.0109\n"
     ]
    },
    {
     "name": "stderr",
     "output_type": "stream",
     "text": [
      "100%|████████████████████████████████████████████████████████████████████████████████| 469/469 [00:40<00:00, 11.48it/s]\n"
     ]
    },
    {
     "name": "stdout",
     "output_type": "stream",
     "text": [
      "Finished epoch:19 || Tatal Loss:0.0242 || Reconstruction Loss:0.0132 || Quantization Loss:0.0110\n"
     ]
    },
    {
     "name": "stderr",
     "output_type": "stream",
     "text": [
      "100%|████████████████████████████████████████████████████████████████████████████████| 469/469 [00:40<00:00, 11.58it/s]"
     ]
    },
    {
     "name": "stdout",
     "output_type": "stream",
     "text": [
      "Finished epoch:20 || Tatal Loss:0.0239 || Reconstruction Loss:0.0133 || Quantization Loss:0.0106\n"
     ]
    },
    {
     "name": "stderr",
     "output_type": "stream",
     "text": [
      "\n"
     ]
    }
   ],
   "source": [
    "# Set device\n",
    "device = torch.device('cuda' if torch.cuda.is_available() else 'cpu')\n",
    "\n",
    "# Create model\n",
    "model = VQVAE().to(device)\n",
    "\n",
    "# Set train parameters\n",
    "num_epochs = 20\n",
    "optimizer = Adam(model.parameters(), lr=0.001)\n",
    "criterion = torch.nn.MSELoss()\n",
    "\n",
    "# For store total loss in each iteration\n",
    "totalLossPlot = []\n",
    "\n",
    "# for gif and plot (G and H)\n",
    "iternum = 0\n",
    "\n",
    "input_images_for_show = []\n",
    "output_images_for_show = []\n",
    "quantized_iamges_for_show = []\n",
    "codebookvecs_for_show = []\n",
    "\n",
    "\n",
    "# Train loop\n",
    "for epoch_idx in range(num_epochs):\n",
    "    model.train()\n",
    "    totloss_per_epoch = []\n",
    "    recons_losses = []\n",
    "    quant_loss = []\n",
    "    \n",
    "    # loop through batchs\n",
    "    for im, label in tqdm(mnist_loader):\n",
    "        \n",
    "        im = im.float().to(device)\n",
    "        optimizer.zero_grad()\n",
    "        out, quantize_loss, quant_output, codebookvecs = model(im)\n",
    "\n",
    "        recon_loss = criterion(out, im)\n",
    "        loss = recon_loss + quantize_loss\n",
    "        loss.backward()\n",
    "        optimizer.step()\n",
    "        totalLossPlot.append(loss.item())\n",
    "        totloss_per_epoch.append(loss.item())\n",
    "        recons_losses.append(recon_loss.item())\n",
    "        quant_loss.append(quantize_loss.item())\n",
    "        \n",
    "        # save for show\n",
    "        if (iternum%20) == 0 :\n",
    "            # Save to lists for show\n",
    "            input_images_for_show.append(im.detach()[0])\n",
    "            \n",
    "            output_images_for_show.append(out.detach()[0])\n",
    "            \n",
    "            quantized_iamges_for_show.append(quant_output.detach()[0])\n",
    "            \n",
    "            codebookvecs_for_show.append(codebookvecs.detach())\n",
    "            \n",
    "        iternum +=1\n",
    "        \n",
    "    print('Finished epoch:{} || Tatal Loss:{:.4f} || Reconstruction Loss:{:.4f} || Quantization Loss:{:.4f}'.format(epoch_idx+1, np.mean(totloss_per_epoch), np.mean(recons_losses), np.mean(quant_loss)))"
   ]
  },
  {
   "cell_type": "code",
   "execution_count": 26,
   "id": "ac72e401",
   "metadata": {},
   "outputs": [
    {
     "data": {
      "image/png": "[encoded data removed]",
      "text/plain": [
       "<Figure size 640x480 with 1 Axes>"
      ]
     },
     "metadata": {},
     "output_type": "display_data"
    }
   ],
   "source": [
    "# plot loss\n",
    "plt.plot(np.arange(1,num_epochs*469+1), totalLossPlot)\n",
    "plt.title('Total Training Loss')\n",
    "plt.xlabel('Iteration')\n",
    "plt.ylabel('Loss')\n",
    "plt.grid()\n",
    "plt.show()"
   ]
  },
  {
   "cell_type": "markdown",
   "id": "f6dc911c",
   "metadata": {},
   "source": [
    "# Part G"
   ]
  },
  {
   "cell_type": "code",
   "execution_count": 35,
   "id": "3241cc92",
   "metadata": {
    "scrolled": false
   },
   "outputs": [
    {
     "data": {
      "image/png": "[encoded data removed]",
      "text/plain": [
       "<Figure size 400x200 with 3 Axes>"
      ]
     },
     "metadata": {},
     "output_type": "display_data"
    },
    {
     "data": {
      "text/plain": [
       "<Figure size 640x480 with 0 Axes>"
      ]
     },
     "metadata": {},
     "output_type": "display_data"
    },
    {
     "data": {
      "image/png": "[encoded data removed]",
      "text/plain": [
       "<Figure size 400x200 with 3 Axes>"
      ]
     },
     "metadata": {},
     "output_type": "display_data"
    },
    {
     "data": {
      "text/plain": [
       "<Figure size 640x480 with 0 Axes>"
      ]
     },
     "metadata": {},
     "output_type": "display_data"
    },
    {
     "data": {
      "image/png": "[encoded data removed]",
      "text/plain": [
       "<Figure size 400x200 with 3 Axes>"
      ]
     },
     "metadata": {},
     "output_type": "display_data"
    },
    {
     "data": {
      "text/plain": [
       "<Figure size 640x480 with 0 Axes>"
      ]
     },
     "metadata": {},
     "output_type": "display_data"
    },
    {
     "data": {
      "image/png": "[encoded data removed]",
      "text/plain": [
       "<Figure size 400x200 with 3 Axes>"
      ]
     },
     "metadata": {},
     "output_type": "display_data"
    },
    {
     "data": {
      "text/plain": [
       "<Figure size 640x480 with 0 Axes>"
      ]
     },
     "metadata": {},
     "output_type": "display_data"
    },
    {
     "data": {
      "image/png": "[encoded data removed]",
      "text/plain": [
       "<Figure size 400x200 with 3 Axes>"
      ]
     },
     "metadata": {},
     "output_type": "display_data"
    },
    {
     "data": {
      "text/plain": [
       "<Figure size 640x480 with 0 Axes>"
      ]
     },
     "metadata": {},
     "output_type": "display_data"
    },
    {
     "data": {
      "image/png": "[encoded data removed]",
      "text/plain": [
       "<Figure size 400x200 with 3 Axes>"
      ]
     },
     "metadata": {},
     "output_type": "display_data"
    },
    {
     "data": {
      "text/plain": [
       "<Figure size 640x480 with 0 Axes>"
      ]
     },
     "metadata": {},
     "output_type": "display_data"
    },
    {
     "data": {
      "image/png": "[encoded data removed]",
      "text/plain": [
       "<Figure size 400x200 with 3 Axes>"
      ]
     },
     "metadata": {},
     "output_type": "display_data"
    },
    {
     "data": {
      "text/plain": [
       "<Figure size 640x480 with 0 Axes>"
      ]
     },
     "metadata": {},
     "output_type": "display_data"
    },
    {
     "data": {
      "image/png": "[encoded data removed]",
      "text/plain": [
       "<Figure size 400x200 with 3 Axes>"
      ]
     },
     "metadata": {},
     "output_type": "display_data"
    },
    {
     "data": {
      "text/plain": [
       "<Figure size 640x480 with 0 Axes>"
      ]
     },
     "metadata": {},
     "output_type": "display_data"
    }
   ],
   "source": [
    "# Plot Input, Output, Quantization Output for some datapoints\n",
    "\n",
    "# Define the plot titles\n",
    "image_names = ['Input', 'Output', 'Quantization Output']\n",
    "\n",
    "for i in range(8):\n",
    "    \n",
    "    fig, axes = plt.subplots(1, 3, figsize=(4, 2))\n",
    "\n",
    "    # Plot input image\n",
    "    axes[0].imshow(np.array(input_images_for_show[i+200][0]).reshape(28,28), cmap='gray')\n",
    "    axes[0].set_title(image_names[0])\n",
    "    axes[0].set_axis_off()\n",
    "\n",
    "    # Plot output image\n",
    "    axes[1].imshow(np.array(output_images_for_show[i+200][0]).reshape(28,28), cmap='gray')\n",
    "    axes[1].set_title(image_names[1])\n",
    "    axes[1].set_axis_off()\n",
    "\n",
    "    # Plot Codebook Output, Sum of channels\n",
    "    axes[2].imshow((np.array(quantized_iamges_for_show[i+200][0]) + np.array(quantized_iamges_for_show[i][1]) ).reshape(7,7))\n",
    "    axes[2].set_title(image_names[2])\n",
    "    axes[2].set_axis_off()\n",
    "\n",
    "    # Adjust layout\n",
    "    plt.tight_layout()\n",
    "    \n",
    "    # Show the plot\n",
    "    plt.show()\n",
    "    \n",
    "    plt.figure()"
   ]
  },
  {
   "cell_type": "code",
   "execution_count": 36,
   "id": "dcb78f53",
   "metadata": {},
   "outputs": [
    {
     "data": {
      "image/png": "[encoded data removed]",
      "text/plain": [
       "<Figure size 400x200 with 1 Axes>"
      ]
     },
     "metadata": {},
     "output_type": "display_data"
    }
   ],
   "source": [
    "# Plot Codebooks\n",
    "fig, ax = plt.subplots(figsize=(4, 2))\n",
    "e_s = np.array(codebookvecs_for_show[-1])\n",
    "x = e_s[:,0]\n",
    "y = e_s[:,1]\n",
    "\n",
    "# set label and color for each vector\n",
    "labels = ['e1', 'e2', 'e3']\n",
    "colors = ['red', 'green', 'blue']\n",
    "\n",
    "# Scatter plot\n",
    "scatter = ax.scatter(x, y, c=colors, label=labels)\n",
    "\n",
    "# Annotate each point with its label\n",
    "for i, label in enumerate(labels):\n",
    "    ax.annotate(label, (x[i], y[i]), textcoords=\"offset points\", xytext=(0,10), ha='center')\n",
    "\n",
    "# Set plot title and labels\n",
    "ax.set_title('Code Book Vectors')\n",
    "\n",
    "plt.show()"
   ]
  },
  {
   "cell_type": "markdown",
   "id": "85f23cb9",
   "metadata": {},
   "source": [
    "# Part H"
   ]
  },
  {
   "cell_type": "code",
   "execution_count": 22,
   "id": "721af8f2",
   "metadata": {},
   "outputs": [],
   "source": [
    "# A function for get codebooke vectors and save them as an image\n",
    "def create_image_coodbookvecs(vecs, indexname):\n",
    "    # Get codebook vectors\n",
    "    e_s = np.array(vecs.detach())\n",
    "    x = e_s[:,0]\n",
    "    y = e_s[:,1]\n",
    "\n",
    "    # set label and color for each vector\n",
    "    labels = ['e1', 'e2', 'e3']\n",
    "    colors = ['red', 'green', 'blue']\n",
    "\n",
    "    # Create a figure\n",
    "    fig, ax = plt.subplots(figsize=(8, 4))\n",
    "\n",
    "    # Scatter plot\n",
    "    scatter = ax.scatter(x, y, c=colors, label=labels)\n",
    "\n",
    "    # Annotate each point with its label\n",
    "    for i, label in enumerate(labels):\n",
    "        ax.annotate(label, (x[i], y[i]), textcoords=\"offset points\", xytext=(0,10), ha='center')\n",
    "\n",
    "    # Set plot title and labels\n",
    "    ax.set_title(f'Code Book Vectors Iteration:{indexname*20+1}')\n",
    "\n",
    "    # Save the plot\n",
    "    fig.savefig(f'codebookvectors/codebookvecs_iter_{indexname+1}.png')\n",
    "\n",
    "    # Close the figure\n",
    "    plt.close(fig)"
   ]
  },
  {
   "cell_type": "code",
   "execution_count": 11,
   "id": "12f0c333",
   "metadata": {},
   "outputs": [
    {
     "name": "stderr",
     "output_type": "stream",
     "text": [
      "100%|████████████████████████████████████████████████████████████████████████████████| 587/587 [00:58<00:00,  9.99it/s]\n"
     ]
    }
   ],
   "source": [
    "# Apply the function on the codebook list to create the frames\n",
    "for i in tqdm(range(len(codebookvecs_for_show))):\n",
    "    create_image_coodbookvecs(codebookvecs_for_show[i],i)"
   ]
  },
  {
   "cell_type": "code",
   "execution_count": 12,
   "id": "870ac865",
   "metadata": {},
   "outputs": [
    {
     "name": "stdout",
     "output_type": "stream",
     "text": [
      "Done!\n"
     ]
    }
   ],
   "source": [
    "# Make a video from stored plots\n",
    "image_folder = 'codebookvectors'\n",
    "\n",
    "# Output video file name\n",
    "video_name = 'codebook_vectors_video.avi'\n",
    "\n",
    "# Frame rate\n",
    "fps = 10\n",
    "\n",
    "# Get H and W\n",
    "frame = cv2.imread(f'codebookvectors/codebookvecs_iter_{1}.png')\n",
    "height, width, _ = frame.shape\n",
    "\n",
    "# Define the codec and create a VideoWriter object\n",
    "fourcc = cv2.VideoWriter_fourcc(*'XVID')\n",
    "video = cv2.VideoWriter(video_name, fourcc, fps, (width, height))\n",
    "\n",
    "# Loop through images and write it to the video\n",
    "for i in range(len(input_images_for_show)):\n",
    "    frame = cv2.imread(f'codebookvectors/codebookvecs_iter_{i+1}.png')\n",
    "    frame = cv2.cvtColor(frame, cv2.COLOR_BGR2RGB)\n",
    "    video.write(frame)\n",
    "\n",
    "# Release the VideoWriter\n",
    "video.release()\n",
    "cv2.destroyAllWindows()\n",
    "print('Done!')"
   ]
  },
  {
   "cell_type": "code",
   "execution_count": 24,
   "id": "705f2582",
   "metadata": {},
   "outputs": [
    {
     "name": "stderr",
     "output_type": "stream",
     "text": [
      "100%|████████████████████████████████████████████████████████████████████████████████| 469/469 [02:21<00:00,  3.32it/s]\n"
     ]
    }
   ],
   "source": [
    "# create plots and save them  as frames for  Input/Output/Quantization video\n",
    "image_names = ['Input', 'Output', 'Quantization Output']\n",
    "\n",
    "for i in tqdm(range(len(input_images_for_show))):\n",
    "    \n",
    "    fig, axes = plt.subplots(1, 3, figsize=(8, 4))\n",
    "\n",
    "    # Plot input image\n",
    "    axes[0].imshow(np.array(input_images_for_show[i][0]).reshape(28,28), cmap='gray')\n",
    "    axes[0].set_title(image_names[0])\n",
    "    axes[0].set_axis_off()\n",
    "\n",
    "    # Plot output image\n",
    "    axes[1].imshow(np.array(output_images_for_show[i][0]).reshape(28,28), cmap='gray')\n",
    "    axes[1].set_title(image_names[1])\n",
    "    axes[1].set_axis_off()\n",
    "\n",
    "    # Plot Codebook Output, Sum of channels\n",
    "    axes[2].imshow((np.array(quantized_iamges_for_show[i][0]) + np.array(quantized_iamges_for_show[i][1])).reshape(7,7))\n",
    "    axes[2].set_title(image_names[2])\n",
    "    axes[2].set_axis_off()\n",
    "    \n",
    "    # Set a title for the entireplot\n",
    "    fig.suptitle(f'Iteration:{i*20+1}', fontsize=16)\n",
    "\n",
    "    # Adjust layout\n",
    "    plt.tight_layout()\n",
    "    \n",
    "    # Save the plot\n",
    "    fig.savefig(f'IOQ/IOQ_iter_{i+1}.png')\n",
    "\n",
    "    # Close the figure\n",
    "    plt.close(fig)"
   ]
  },
  {
   "cell_type": "code",
   "execution_count": 25,
   "id": "fc81b838",
   "metadata": {},
   "outputs": [
    {
     "name": "stderr",
     "output_type": "stream",
     "text": [
      "100%|████████████████████████████████████████████████████████████████████████████████| 469/469 [00:09<00:00, 49.08it/s]"
     ]
    },
    {
     "name": "stdout",
     "output_type": "stream",
     "text": [
      "Done!\n"
     ]
    },
    {
     "name": "stderr",
     "output_type": "stream",
     "text": [
      "\n"
     ]
    }
   ],
   "source": [
    "# Make a video from stored plots\n",
    "image_folder = 'IOQ'\n",
    "\n",
    "# Output video file name\n",
    "video_name = 'IOQ_video.avi'\n",
    "\n",
    "# Frame rate\n",
    "fps = 5\n",
    "\n",
    "# Get H and W\n",
    "frame = cv2.imread(f'IOQ/IOQ_iter_{1}.png')\n",
    "height, width, _ = frame.shape\n",
    "\n",
    "\n",
    "# Define the codec and create a VideoWriter object\n",
    "fourcc = cv2.VideoWriter_fourcc(*'XVID')\n",
    "video = cv2.VideoWriter(video_name, fourcc, fps, (width, height))\n",
    "\n",
    "# Loop through each image and write it to the video\n",
    "for i in tqdm(range(len(input_images_for_show))):\n",
    "    frame = cv2.imread(f'IOQ/IOQ_iter_{i+1}.png')\n",
    "    frame = cv2.cvtColor(frame, cv2.COLOR_BGR2RGB)\n",
    "    video.write(frame)\n",
    "\n",
    "# Release the VideoWriter\n",
    "video.release()\n",
    "cv2.destroyAllWindows()\n",
    "print('Done!')"
   ]
  },
  {
   "cell_type": "markdown",
   "id": "a23419fa",
   "metadata": {},
   "source": [
    "# Part I (RGB MNIST)"
   ]
  },
  {
   "cell_type": "markdown",
   "id": "d01bb074",
   "metadata": {},
   "source": [
    "## a"
   ]
  },
  {
   "cell_type": "code",
   "execution_count": 37,
   "id": "d3b9a4ed",
   "metadata": {},
   "outputs": [
    {
     "name": "stdout",
     "output_type": "stream",
     "text": [
      "Image dimension: torch.Size([128, 3, 28, 28])\n",
      "Label dimension: torch.Size([128])\n"
     ]
    }
   ],
   "source": [
    "# Create  Colored MNIST (RGB) dataset object, set im_channels = 3\n",
    "mnist_rgb = MnistDataset(split=train_dataset_temp, im_channels=3)\n",
    "\n",
    "# Create dataloader with batch_size = 128\n",
    "mnist_loader_rgb = DataLoader(mnist_rgb, batch_size=128, shuffle=True, num_workers=0)\n",
    "for im, label in mnist_loader_rgb:\n",
    "    print('Image dimension:', im.shape)\n",
    "    print('Label dimension: {}'.format(label.shape))\n",
    "    break"
   ]
  },
  {
   "cell_type": "code",
   "execution_count": 38,
   "id": "qv6Ni5K02VmJ",
   "metadata": {
    "colab": {
     "base_uri": "https://localhost:8080/"
    },
    "id": "qv6Ni5K02VmJ",
    "outputId": "444f712d-64b5-4df1-934d-d99ec4f6d563"
   },
   "outputs": [],
   "source": [
    "# A function for plot MNIST RGB images\n",
    "def rgb_to_plot(tensor_rgb):\n",
    "    temp = np.zeros((28,28,3))\n",
    "    temp[:,:,0] = tensor_rgb[0,:,:]\n",
    "    temp[:,:,1] = tensor_rgb[1,:,:]\n",
    "    temp[:,:,2] = tensor_rgb[2,:,:]\n",
    "    return temp"
   ]
  },
  {
   "cell_type": "markdown",
   "id": "23b654c2",
   "metadata": {},
   "source": [
    "## b"
   ]
  },
  {
   "cell_type": "code",
   "execution_count": 39,
   "id": "86933aff",
   "metadata": {},
   "outputs": [],
   "source": [
    "# Create a VQVAERGB class for 3-channel images\n",
    "class VQVAERGB(nn.Module):\n",
    "    def __init__(self, numvectors, dimvectors):\n",
    "        super(VQVAERGB, self).__init__()\n",
    "        self.encoder = nn.Sequential(\n",
    "            nn.Conv2d(3, 16, 4, stride=2, padding=1),\n",
    "            nn.BatchNorm2d(16),\n",
    "            nn.ReLU(),\n",
    "            nn.Conv2d(16, 4, 4, stride=2, padding=1),\n",
    "            nn.BatchNorm2d(4),\n",
    "            nn.ReLU(),)\n",
    "        \n",
    "        self.pre_quant_conv = nn.Conv2d(4, dimvectors, kernel_size=1)\n",
    "        self.embedding = nn.Embedding(num_embeddings=numvectors, embedding_dim=dimvectors)\n",
    "        self.post_quant_conv = nn.Conv2d(dimvectors, 4, kernel_size=1)\n",
    "        \n",
    "        # Commitment Loss Beta\n",
    "        self.beta = 0.2\n",
    "        \n",
    "        self.decoder = nn.Sequential(\n",
    "            nn.ConvTranspose2d(4, 16, 4, stride=2, padding=1),\n",
    "            nn.BatchNorm2d(16),\n",
    "            nn.ReLU(),\n",
    "            nn.ConvTranspose2d(16, 3, 4, stride=2, padding=1),\n",
    "            nn.Sigmoid(),)\n",
    "        \n",
    "        \n",
    "    def forward(self, x):\n",
    "        # B, C, H, W\n",
    "        encoded_output = self.encoder(x)\n",
    "        quant_input = self.pre_quant_conv(encoded_output)\n",
    "        \n",
    "        # Quantization\n",
    "        B, C, H, W = quant_input.shape\n",
    "        quant_input = quant_input.permute(0, 2, 3, 1)\n",
    "        quant_input = quant_input.reshape((quant_input.size(0), -1, quant_input.size(-1)))\n",
    "        \n",
    "        # Compute pairwise distances\n",
    "        dist = torch.cdist(quant_input, self.embedding.weight[None, :].repeat((quant_input.size(0), 1, 1)))\n",
    "        \n",
    "        # Find index of nearest embedding\n",
    "        min_encoding_indices = torch.argmin(dist, dim=-1)\n",
    "        \n",
    "        # Select the embedding weights\n",
    "        quant_out = torch.index_select(self.embedding.weight, 0, min_encoding_indices.view(-1))\n",
    "        quant_input = quant_input.reshape((-1, quant_input.size(-1)))\n",
    "        \n",
    "        # Compute losses\n",
    "        commitment_loss = torch.mean((quant_out.detach() - quant_input)**2)\n",
    "        codebook_loss = torch.mean((quant_out - quant_input.detach())**2)\n",
    "        quantize_losses = codebook_loss + self.beta*commitment_loss\n",
    "        \n",
    "        # Ensure straight through gradient\n",
    "        quant_out = quant_input + (quant_out - quant_input).detach()\n",
    "        \n",
    "        # Reshaping back to original input shape\n",
    "        quant_out = quant_out.reshape((B, H, W, C)).permute(0, 3, 1, 2)\n",
    "        min_encoding_indices = min_encoding_indices.reshape((-1, quant_out.size(-2), quant_out.size(-1)))\n",
    "        \n",
    "        \n",
    "        # Decoder part\n",
    "        decoder_input = self.post_quant_conv(quant_out)\n",
    "        output = self.decoder(decoder_input)\n",
    "        return output, quantize_losses"
   ]
  },
  {
   "cell_type": "code",
   "execution_count": 40,
   "id": "6c9e72dc",
   "metadata": {
    "scrolled": true
   },
   "outputs": [],
   "source": [
    "def train_rgb(model_rgb , num_epochs):\n",
    "    \n",
    "    # Set training parameters\n",
    "    optimizer = Adam(model_rgb.parameters(), lr=0.001)\n",
    "    criterion = torch.nn.MSELoss()\n",
    "    # Training loop\n",
    "    for epoch_idx in range(num_epochs):\n",
    "        model_rgb.train()\n",
    "        totloss_per_epoch = []\n",
    "        recuns_loss = []\n",
    "        quant_loss = []\n",
    "\n",
    "        # Loop through the batches\n",
    "        for im, label in tqdm(mnist_loader_rgb):\n",
    "            im = im.float().to(device)\n",
    "            optimizer.zero_grad()\n",
    "            out, quantize_loss = model_rgb(im)\n",
    "\n",
    "            recon_loss = criterion(out, im)\n",
    "            loss = recon_loss + quantize_loss\n",
    "            loss.backward()\n",
    "            optimizer.step()\n",
    "            totloss_per_epoch.append(loss.item())\n",
    "            recuns_loss.append(recon_loss.item())\n",
    "            quant_loss.append(quantize_loss.item())\n",
    "        print('Finished epoch:{} || Total Loss:{:.4f} || Reconstruction Loss:{:.4f} || Quantization Loss:{:.4f}'.format(epoch_idx+1, np.mean(totloss_per_epoch), np.mean(recuns_loss), np.mean(quant_loss)))\n",
    "    \n",
    "    \n",
    "    # get a output batch for plot the images\n",
    "    model_rgb.eval()\n",
    "    \n",
    "    # Loop through the batches\n",
    "    for im, label in mnist_loader_rgb:\n",
    "        im = im.float().to(device)\n",
    "        final_output, _ = model_rgb(im)\n",
    "      \n",
    "    print('**************************************************************************************************')\n",
    "    \n",
    "    return final_output\n",
    "    \n",
    "    "
   ]
  },
  {
   "cell_type": "code",
   "execution_count": 16,
   "id": "5ac65f10",
   "metadata": {
    "scrolled": true
   },
   "outputs": [
    {
     "name": "stderr",
     "output_type": "stream",
     "text": [
      "100%|████████████████████████████████████████████████████████████████████████████████| 469/469 [00:23<00:00, 20.27it/s]\n"
     ]
    },
    {
     "name": "stdout",
     "output_type": "stream",
     "text": [
      "Finished epoch:1 || Total Loss:0.0571 || Reconstruction Loss:0.0414 || Quantization Loss:0.0157\n"
     ]
    },
    {
     "name": "stderr",
     "output_type": "stream",
     "text": [
      "100%|████████████████████████████████████████████████████████████████████████████████| 469/469 [00:23<00:00, 20.08it/s]\n"
     ]
    },
    {
     "name": "stdout",
     "output_type": "stream",
     "text": [
      "Finished epoch:2 || Total Loss:0.0527 || Reconstruction Loss:0.0256 || Quantization Loss:0.0271\n"
     ]
    },
    {
     "name": "stderr",
     "output_type": "stream",
     "text": [
      "100%|████████████████████████████████████████████████████████████████████████████████| 469/469 [00:13<00:00, 33.86it/s]\n"
     ]
    },
    {
     "name": "stdout",
     "output_type": "stream",
     "text": [
      "Finished epoch:3 || Total Loss:0.0337 || Reconstruction Loss:0.0174 || Quantization Loss:0.0162\n"
     ]
    },
    {
     "name": "stderr",
     "output_type": "stream",
     "text": [
      "100%|████████████████████████████████████████████████████████████████████████████████| 469/469 [00:13<00:00, 35.74it/s]\n"
     ]
    },
    {
     "name": "stdout",
     "output_type": "stream",
     "text": [
      "Finished epoch:4 || Total Loss:0.0357 || Reconstruction Loss:0.0177 || Quantization Loss:0.0180\n"
     ]
    },
    {
     "name": "stderr",
     "output_type": "stream",
     "text": [
      "100%|████████████████████████████████████████████████████████████████████████████████| 469/469 [00:14<00:00, 32.86it/s]\n"
     ]
    },
    {
     "name": "stdout",
     "output_type": "stream",
     "text": [
      "Finished epoch:5 || Total Loss:0.0381 || Reconstruction Loss:0.0181 || Quantization Loss:0.0200\n"
     ]
    },
    {
     "name": "stderr",
     "output_type": "stream",
     "text": [
      "100%|████████████████████████████████████████████████████████████████████████████████| 469/469 [00:14<00:00, 31.81it/s]\n"
     ]
    },
    {
     "name": "stdout",
     "output_type": "stream",
     "text": [
      "Finished epoch:6 || Total Loss:0.0383 || Reconstruction Loss:0.0186 || Quantization Loss:0.0197\n"
     ]
    },
    {
     "name": "stderr",
     "output_type": "stream",
     "text": [
      "100%|████████████████████████████████████████████████████████████████████████████████| 469/469 [00:15<00:00, 30.58it/s]\n"
     ]
    },
    {
     "name": "stdout",
     "output_type": "stream",
     "text": [
      "Finished epoch:7 || Total Loss:0.0372 || Reconstruction Loss:0.0190 || Quantization Loss:0.0181\n"
     ]
    },
    {
     "name": "stderr",
     "output_type": "stream",
     "text": [
      "100%|████████████████████████████████████████████████████████████████████████████████| 469/469 [00:14<00:00, 31.97it/s]\n"
     ]
    },
    {
     "name": "stdout",
     "output_type": "stream",
     "text": [
      "Finished epoch:8 || Total Loss:0.0361 || Reconstruction Loss:0.0195 || Quantization Loss:0.0166\n"
     ]
    },
    {
     "name": "stderr",
     "output_type": "stream",
     "text": [
      "100%|████████████████████████████████████████████████████████████████████████████████| 469/469 [00:15<00:00, 30.82it/s]\n"
     ]
    },
    {
     "name": "stdout",
     "output_type": "stream",
     "text": [
      "Finished epoch:9 || Total Loss:0.0363 || Reconstruction Loss:0.0197 || Quantization Loss:0.0166\n"
     ]
    },
    {
     "name": "stderr",
     "output_type": "stream",
     "text": [
      "100%|████████████████████████████████████████████████████████████████████████████████| 469/469 [00:15<00:00, 29.56it/s]\n"
     ]
    },
    {
     "name": "stdout",
     "output_type": "stream",
     "text": [
      "Finished epoch:10 || Total Loss:0.0366 || Reconstruction Loss:0.0198 || Quantization Loss:0.0168\n"
     ]
    },
    {
     "name": "stderr",
     "output_type": "stream",
     "text": [
      "100%|████████████████████████████████████████████████████████████████████████████████| 469/469 [00:15<00:00, 30.53it/s]\n"
     ]
    },
    {
     "name": "stdout",
     "output_type": "stream",
     "text": [
      "Finished epoch:11 || Total Loss:0.0370 || Reconstruction Loss:0.0199 || Quantization Loss:0.0171\n"
     ]
    },
    {
     "name": "stderr",
     "output_type": "stream",
     "text": [
      "100%|████████████████████████████████████████████████████████████████████████████████| 469/469 [00:15<00:00, 30.76it/s]\n"
     ]
    },
    {
     "name": "stdout",
     "output_type": "stream",
     "text": [
      "Finished epoch:12 || Total Loss:0.0371 || Reconstruction Loss:0.0202 || Quantization Loss:0.0169\n"
     ]
    },
    {
     "name": "stderr",
     "output_type": "stream",
     "text": [
      "100%|████████████████████████████████████████████████████████████████████████████████| 469/469 [00:15<00:00, 30.07it/s]\n"
     ]
    },
    {
     "name": "stdout",
     "output_type": "stream",
     "text": [
      "Finished epoch:13 || Total Loss:0.0369 || Reconstruction Loss:0.0205 || Quantization Loss:0.0163\n"
     ]
    },
    {
     "name": "stderr",
     "output_type": "stream",
     "text": [
      "100%|████████████████████████████████████████████████████████████████████████████████| 469/469 [00:14<00:00, 31.30it/s]\n"
     ]
    },
    {
     "name": "stdout",
     "output_type": "stream",
     "text": [
      "Finished epoch:14 || Total Loss:0.0370 || Reconstruction Loss:0.0209 || Quantization Loss:0.0161\n"
     ]
    },
    {
     "name": "stderr",
     "output_type": "stream",
     "text": [
      "100%|████████████████████████████████████████████████████████████████████████████████| 469/469 [00:15<00:00, 30.70it/s]\n"
     ]
    },
    {
     "name": "stdout",
     "output_type": "stream",
     "text": [
      "Finished epoch:15 || Total Loss:0.0362 || Reconstruction Loss:0.0210 || Quantization Loss:0.0151\n"
     ]
    },
    {
     "name": "stderr",
     "output_type": "stream",
     "text": [
      "100%|████████████████████████████████████████████████████████████████████████████████| 469/469 [00:14<00:00, 32.24it/s]\n"
     ]
    },
    {
     "name": "stdout",
     "output_type": "stream",
     "text": [
      "Finished epoch:16 || Total Loss:0.0362 || Reconstruction Loss:0.0214 || Quantization Loss:0.0148\n"
     ]
    },
    {
     "name": "stderr",
     "output_type": "stream",
     "text": [
      "100%|████████████████████████████████████████████████████████████████████████████████| 469/469 [00:15<00:00, 29.34it/s]\n"
     ]
    },
    {
     "name": "stdout",
     "output_type": "stream",
     "text": [
      "Finished epoch:17 || Total Loss:0.0367 || Reconstruction Loss:0.0226 || Quantization Loss:0.0142\n"
     ]
    },
    {
     "name": "stderr",
     "output_type": "stream",
     "text": [
      "100%|████████████████████████████████████████████████████████████████████████████████| 469/469 [00:15<00:00, 31.11it/s]\n"
     ]
    },
    {
     "name": "stdout",
     "output_type": "stream",
     "text": [
      "Finished epoch:18 || Total Loss:0.0368 || Reconstruction Loss:0.0230 || Quantization Loss:0.0138\n"
     ]
    },
    {
     "name": "stderr",
     "output_type": "stream",
     "text": [
      "100%|████████████████████████████████████████████████████████████████████████████████| 469/469 [00:14<00:00, 31.43it/s]\n"
     ]
    },
    {
     "name": "stdout",
     "output_type": "stream",
     "text": [
      "Finished epoch:19 || Total Loss:0.0355 || Reconstruction Loss:0.0231 || Quantization Loss:0.0124\n"
     ]
    },
    {
     "name": "stderr",
     "output_type": "stream",
     "text": [
      "100%|████████████████████████████████████████████████████████████████████████████████| 469/469 [00:16<00:00, 28.40it/s]\n"
     ]
    },
    {
     "name": "stdout",
     "output_type": "stream",
     "text": [
      "Finished epoch:20 || Total Loss:0.0362 || Reconstruction Loss:0.0231 || Quantization Loss:0.0132\n",
      "**************************************************************************************************\n"
     ]
    },
    {
     "name": "stderr",
     "output_type": "stream",
     "text": [
      "100%|████████████████████████████████████████████████████████████████████████████████| 469/469 [00:15<00:00, 30.32it/s]\n"
     ]
    },
    {
     "name": "stdout",
     "output_type": "stream",
     "text": [
      "Finished epoch:1 || Total Loss:0.0994 || Reconstruction Loss:0.0298 || Quantization Loss:0.0696\n"
     ]
    },
    {
     "name": "stderr",
     "output_type": "stream",
     "text": [
      "100%|████████████████████████████████████████████████████████████████████████████████| 469/469 [00:15<00:00, 29.86it/s]\n"
     ]
    },
    {
     "name": "stdout",
     "output_type": "stream",
     "text": [
      "Finished epoch:2 || Total Loss:0.0239 || Reconstruction Loss:0.0142 || Quantization Loss:0.0097\n"
     ]
    },
    {
     "name": "stderr",
     "output_type": "stream",
     "text": [
      "100%|████████████████████████████████████████████████████████████████████████████████| 469/469 [00:15<00:00, 29.57it/s]\n"
     ]
    },
    {
     "name": "stdout",
     "output_type": "stream",
     "text": [
      "Finished epoch:3 || Total Loss:0.0226 || Reconstruction Loss:0.0131 || Quantization Loss:0.0096\n"
     ]
    },
    {
     "name": "stderr",
     "output_type": "stream",
     "text": [
      "100%|████████████████████████████████████████████████████████████████████████████████| 469/469 [00:15<00:00, 30.08it/s]\n"
     ]
    },
    {
     "name": "stdout",
     "output_type": "stream",
     "text": [
      "Finished epoch:4 || Total Loss:0.0213 || Reconstruction Loss:0.0122 || Quantization Loss:0.0091\n"
     ]
    },
    {
     "name": "stderr",
     "output_type": "stream",
     "text": [
      "100%|████████████████████████████████████████████████████████████████████████████████| 469/469 [00:15<00:00, 30.66it/s]\n"
     ]
    },
    {
     "name": "stdout",
     "output_type": "stream",
     "text": [
      "Finished epoch:5 || Total Loss:0.0181 || Reconstruction Loss:0.0113 || Quantization Loss:0.0068\n"
     ]
    },
    {
     "name": "stderr",
     "output_type": "stream",
     "text": [
      "100%|████████████████████████████████████████████████████████████████████████████████| 469/469 [00:15<00:00, 30.76it/s]\n"
     ]
    },
    {
     "name": "stdout",
     "output_type": "stream",
     "text": [
      "Finished epoch:6 || Total Loss:0.0160 || Reconstruction Loss:0.0107 || Quantization Loss:0.0053\n"
     ]
    },
    {
     "name": "stderr",
     "output_type": "stream",
     "text": [
      "100%|████████████████████████████████████████████████████████████████████████████████| 469/469 [00:15<00:00, 30.64it/s]\n"
     ]
    },
    {
     "name": "stdout",
     "output_type": "stream",
     "text": [
      "Finished epoch:7 || Total Loss:0.0157 || Reconstruction Loss:0.0104 || Quantization Loss:0.0052\n"
     ]
    },
    {
     "name": "stderr",
     "output_type": "stream",
     "text": [
      "100%|████████████████████████████████████████████████████████████████████████████████| 469/469 [00:15<00:00, 30.55it/s]\n"
     ]
    },
    {
     "name": "stdout",
     "output_type": "stream",
     "text": [
      "Finished epoch:8 || Total Loss:0.0156 || Reconstruction Loss:0.0102 || Quantization Loss:0.0054\n"
     ]
    },
    {
     "name": "stderr",
     "output_type": "stream",
     "text": [
      "100%|████████████████████████████████████████████████████████████████████████████████| 469/469 [00:15<00:00, 29.62it/s]\n"
     ]
    },
    {
     "name": "stdout",
     "output_type": "stream",
     "text": [
      "Finished epoch:9 || Total Loss:0.0155 || Reconstruction Loss:0.0100 || Quantization Loss:0.0055\n"
     ]
    },
    {
     "name": "stderr",
     "output_type": "stream",
     "text": [
      "100%|████████████████████████████████████████████████████████████████████████████████| 469/469 [00:16<00:00, 29.01it/s]\n"
     ]
    },
    {
     "name": "stdout",
     "output_type": "stream",
     "text": [
      "Finished epoch:10 || Total Loss:0.0151 || Reconstruction Loss:0.0099 || Quantization Loss:0.0053\n"
     ]
    },
    {
     "name": "stderr",
     "output_type": "stream",
     "text": [
      "100%|████████████████████████████████████████████████████████████████████████████████| 469/469 [00:16<00:00, 28.30it/s]\n"
     ]
    },
    {
     "name": "stdout",
     "output_type": "stream",
     "text": [
      "Finished epoch:11 || Total Loss:0.0150 || Reconstruction Loss:0.0095 || Quantization Loss:0.0054\n"
     ]
    },
    {
     "name": "stderr",
     "output_type": "stream",
     "text": [
      "100%|████████████████████████████████████████████████████████████████████████████████| 469/469 [00:15<00:00, 30.44it/s]\n"
     ]
    },
    {
     "name": "stdout",
     "output_type": "stream",
     "text": [
      "Finished epoch:12 || Total Loss:0.0150 || Reconstruction Loss:0.0093 || Quantization Loss:0.0057\n"
     ]
    },
    {
     "name": "stderr",
     "output_type": "stream",
     "text": [
      "100%|████████████████████████████████████████████████████████████████████████████████| 469/469 [00:15<00:00, 30.26it/s]\n"
     ]
    },
    {
     "name": "stdout",
     "output_type": "stream",
     "text": [
      "Finished epoch:13 || Total Loss:0.0154 || Reconstruction Loss:0.0091 || Quantization Loss:0.0063\n"
     ]
    },
    {
     "name": "stderr",
     "output_type": "stream",
     "text": [
      "100%|████████████████████████████████████████████████████████████████████████████████| 469/469 [00:15<00:00, 30.03it/s]\n"
     ]
    },
    {
     "name": "stdout",
     "output_type": "stream",
     "text": [
      "Finished epoch:14 || Total Loss:0.0158 || Reconstruction Loss:0.0091 || Quantization Loss:0.0068\n"
     ]
    },
    {
     "name": "stderr",
     "output_type": "stream",
     "text": [
      "100%|████████████████████████████████████████████████████████████████████████████████| 469/469 [00:16<00:00, 27.74it/s]\n"
     ]
    },
    {
     "name": "stdout",
     "output_type": "stream",
     "text": [
      "Finished epoch:15 || Total Loss:0.0164 || Reconstruction Loss:0.0090 || Quantization Loss:0.0073\n"
     ]
    },
    {
     "name": "stderr",
     "output_type": "stream",
     "text": [
      "100%|████████████████████████████████████████████████████████████████████████████████| 469/469 [00:16<00:00, 28.69it/s]\n"
     ]
    },
    {
     "name": "stdout",
     "output_type": "stream",
     "text": [
      "Finished epoch:16 || Total Loss:0.0168 || Reconstruction Loss:0.0090 || Quantization Loss:0.0078\n"
     ]
    },
    {
     "name": "stderr",
     "output_type": "stream",
     "text": [
      "100%|████████████████████████████████████████████████████████████████████████████████| 469/469 [00:15<00:00, 29.34it/s]\n"
     ]
    },
    {
     "name": "stdout",
     "output_type": "stream",
     "text": [
      "Finished epoch:17 || Total Loss:0.0178 || Reconstruction Loss:0.0088 || Quantization Loss:0.0090\n"
     ]
    },
    {
     "name": "stderr",
     "output_type": "stream",
     "text": [
      "100%|████████████████████████████████████████████████████████████████████████████████| 469/469 [00:16<00:00, 29.16it/s]\n"
     ]
    },
    {
     "name": "stdout",
     "output_type": "stream",
     "text": [
      "Finished epoch:18 || Total Loss:0.0200 || Reconstruction Loss:0.0084 || Quantization Loss:0.0117\n"
     ]
    },
    {
     "name": "stderr",
     "output_type": "stream",
     "text": [
      "100%|████████████████████████████████████████████████████████████████████████████████| 469/469 [00:15<00:00, 29.83it/s]\n"
     ]
    },
    {
     "name": "stdout",
     "output_type": "stream",
     "text": [
      "Finished epoch:19 || Total Loss:0.0200 || Reconstruction Loss:0.0079 || Quantization Loss:0.0121\n"
     ]
    },
    {
     "name": "stderr",
     "output_type": "stream",
     "text": [
      "100%|████████████████████████████████████████████████████████████████████████████████| 469/469 [00:15<00:00, 30.27it/s]\n"
     ]
    },
    {
     "name": "stdout",
     "output_type": "stream",
     "text": [
      "Finished epoch:20 || Total Loss:0.0201 || Reconstruction Loss:0.0077 || Quantization Loss:0.0124\n",
      "**************************************************************************************************\n"
     ]
    },
    {
     "name": "stderr",
     "output_type": "stream",
     "text": [
      "100%|████████████████████████████████████████████████████████████████████████████████| 469/469 [00:15<00:00, 31.25it/s]\n"
     ]
    },
    {
     "name": "stdout",
     "output_type": "stream",
     "text": [
      "Finished epoch:1 || Total Loss:0.0379 || Reconstruction Loss:0.0298 || Quantization Loss:0.0081\n"
     ]
    },
    {
     "name": "stderr",
     "output_type": "stream",
     "text": [
      "100%|████████████████████████████████████████████████████████████████████████████████| 469/469 [00:15<00:00, 31.22it/s]\n"
     ]
    },
    {
     "name": "stdout",
     "output_type": "stream",
     "text": [
      "Finished epoch:2 || Total Loss:0.0165 || Reconstruction Loss:0.0132 || Quantization Loss:0.0033\n"
     ]
    },
    {
     "name": "stderr",
     "output_type": "stream",
     "text": [
      "100%|████████████████████████████████████████████████████████████████████████████████| 469/469 [00:16<00:00, 29.06it/s]\n"
     ]
    },
    {
     "name": "stdout",
     "output_type": "stream",
     "text": [
      "Finished epoch:3 || Total Loss:0.0170 || Reconstruction Loss:0.0113 || Quantization Loss:0.0057\n"
     ]
    },
    {
     "name": "stderr",
     "output_type": "stream",
     "text": [
      "100%|████████████████████████████████████████████████████████████████████████████████| 469/469 [00:16<00:00, 29.28it/s]\n"
     ]
    },
    {
     "name": "stdout",
     "output_type": "stream",
     "text": [
      "Finished epoch:4 || Total Loss:0.0157 || Reconstruction Loss:0.0100 || Quantization Loss:0.0057\n"
     ]
    },
    {
     "name": "stderr",
     "output_type": "stream",
     "text": [
      "100%|████████████████████████████████████████████████████████████████████████████████| 469/469 [00:15<00:00, 29.55it/s]\n"
     ]
    },
    {
     "name": "stdout",
     "output_type": "stream",
     "text": [
      "Finished epoch:5 || Total Loss:0.0149 || Reconstruction Loss:0.0094 || Quantization Loss:0.0055\n"
     ]
    },
    {
     "name": "stderr",
     "output_type": "stream",
     "text": [
      "100%|████████████████████████████████████████████████████████████████████████████████| 469/469 [00:15<00:00, 30.77it/s]\n"
     ]
    },
    {
     "name": "stdout",
     "output_type": "stream",
     "text": [
      "Finished epoch:6 || Total Loss:0.0149 || Reconstruction Loss:0.0091 || Quantization Loss:0.0058\n"
     ]
    },
    {
     "name": "stderr",
     "output_type": "stream",
     "text": [
      "100%|████████████████████████████████████████████████████████████████████████████████| 469/469 [00:15<00:00, 30.57it/s]\n"
     ]
    },
    {
     "name": "stdout",
     "output_type": "stream",
     "text": [
      "Finished epoch:7 || Total Loss:0.0144 || Reconstruction Loss:0.0088 || Quantization Loss:0.0057\n"
     ]
    },
    {
     "name": "stderr",
     "output_type": "stream",
     "text": [
      "100%|████████████████████████████████████████████████████████████████████████████████| 469/469 [00:15<00:00, 30.79it/s]\n"
     ]
    },
    {
     "name": "stdout",
     "output_type": "stream",
     "text": [
      "Finished epoch:8 || Total Loss:0.0145 || Reconstruction Loss:0.0086 || Quantization Loss:0.0060\n"
     ]
    },
    {
     "name": "stderr",
     "output_type": "stream",
     "text": [
      "100%|████████████████████████████████████████████████████████████████████████████████| 469/469 [00:15<00:00, 29.88it/s]\n"
     ]
    },
    {
     "name": "stdout",
     "output_type": "stream",
     "text": [
      "Finished epoch:9 || Total Loss:0.0151 || Reconstruction Loss:0.0078 || Quantization Loss:0.0073\n"
     ]
    },
    {
     "name": "stderr",
     "output_type": "stream",
     "text": [
      "100%|████████████████████████████████████████████████████████████████████████████████| 469/469 [00:17<00:00, 26.16it/s]\n"
     ]
    },
    {
     "name": "stdout",
     "output_type": "stream",
     "text": [
      "Finished epoch:10 || Total Loss:0.0156 || Reconstruction Loss:0.0069 || Quantization Loss:0.0087\n"
     ]
    },
    {
     "name": "stderr",
     "output_type": "stream",
     "text": [
      "100%|████████████████████████████████████████████████████████████████████████████████| 469/469 [00:16<00:00, 28.67it/s]\n"
     ]
    },
    {
     "name": "stdout",
     "output_type": "stream",
     "text": [
      "Finished epoch:11 || Total Loss:0.0153 || Reconstruction Loss:0.0067 || Quantization Loss:0.0086\n"
     ]
    },
    {
     "name": "stderr",
     "output_type": "stream",
     "text": [
      "100%|████████████████████████████████████████████████████████████████████████████████| 469/469 [00:16<00:00, 28.81it/s]\n"
     ]
    },
    {
     "name": "stdout",
     "output_type": "stream",
     "text": [
      "Finished epoch:12 || Total Loss:0.0151 || Reconstruction Loss:0.0065 || Quantization Loss:0.0086\n"
     ]
    },
    {
     "name": "stderr",
     "output_type": "stream",
     "text": [
      "100%|████████████████████████████████████████████████████████████████████████████████| 469/469 [00:15<00:00, 30.45it/s]\n"
     ]
    },
    {
     "name": "stdout",
     "output_type": "stream",
     "text": [
      "Finished epoch:13 || Total Loss:0.0151 || Reconstruction Loss:0.0063 || Quantization Loss:0.0088\n"
     ]
    },
    {
     "name": "stderr",
     "output_type": "stream",
     "text": [
      "100%|████████████████████████████████████████████████████████████████████████████████| 469/469 [00:15<00:00, 30.49it/s]\n"
     ]
    },
    {
     "name": "stdout",
     "output_type": "stream",
     "text": [
      "Finished epoch:14 || Total Loss:0.0151 || Reconstruction Loss:0.0061 || Quantization Loss:0.0090\n"
     ]
    },
    {
     "name": "stderr",
     "output_type": "stream",
     "text": [
      "100%|████████████████████████████████████████████████████████████████████████████████| 469/469 [00:15<00:00, 30.61it/s]\n"
     ]
    },
    {
     "name": "stdout",
     "output_type": "stream",
     "text": [
      "Finished epoch:15 || Total Loss:0.0151 || Reconstruction Loss:0.0059 || Quantization Loss:0.0092\n"
     ]
    },
    {
     "name": "stderr",
     "output_type": "stream",
     "text": [
      "100%|████████████████████████████████████████████████████████████████████████████████| 469/469 [00:15<00:00, 31.22it/s]\n"
     ]
    },
    {
     "name": "stdout",
     "output_type": "stream",
     "text": [
      "Finished epoch:16 || Total Loss:0.0149 || Reconstruction Loss:0.0058 || Quantization Loss:0.0091\n"
     ]
    },
    {
     "name": "stderr",
     "output_type": "stream",
     "text": [
      "100%|████████████████████████████████████████████████████████████████████████████████| 469/469 [00:15<00:00, 30.71it/s]\n"
     ]
    },
    {
     "name": "stdout",
     "output_type": "stream",
     "text": [
      "Finished epoch:17 || Total Loss:0.0149 || Reconstruction Loss:0.0057 || Quantization Loss:0.0092\n"
     ]
    },
    {
     "name": "stderr",
     "output_type": "stream",
     "text": [
      "100%|████████████████████████████████████████████████████████████████████████████████| 469/469 [00:15<00:00, 30.65it/s]\n"
     ]
    },
    {
     "name": "stdout",
     "output_type": "stream",
     "text": [
      "Finished epoch:18 || Total Loss:0.0148 || Reconstruction Loss:0.0056 || Quantization Loss:0.0092\n"
     ]
    },
    {
     "name": "stderr",
     "output_type": "stream",
     "text": [
      "100%|████████████████████████████████████████████████████████████████████████████████| 469/469 [00:16<00:00, 28.79it/s]\n"
     ]
    },
    {
     "name": "stdout",
     "output_type": "stream",
     "text": [
      "Finished epoch:19 || Total Loss:0.0147 || Reconstruction Loss:0.0055 || Quantization Loss:0.0091\n"
     ]
    },
    {
     "name": "stderr",
     "output_type": "stream",
     "text": [
      "100%|████████████████████████████████████████████████████████████████████████████████| 469/469 [00:15<00:00, 30.26it/s]\n"
     ]
    },
    {
     "name": "stdout",
     "output_type": "stream",
     "text": [
      "Finished epoch:20 || Total Loss:0.0148 || Reconstruction Loss:0.0055 || Quantization Loss:0.0093\n",
      "**************************************************************************************************\n"
     ]
    },
    {
     "name": "stderr",
     "output_type": "stream",
     "text": [
      "100%|████████████████████████████████████████████████████████████████████████████████| 469/469 [00:15<00:00, 29.54it/s]\n"
     ]
    },
    {
     "name": "stdout",
     "output_type": "stream",
     "text": [
      "Finished epoch:1 || Total Loss:0.0444 || Reconstruction Loss:0.0318 || Quantization Loss:0.0126\n"
     ]
    },
    {
     "name": "stderr",
     "output_type": "stream",
     "text": [
      "100%|████████████████████████████████████████████████████████████████████████████████| 469/469 [00:15<00:00, 29.35it/s]\n"
     ]
    },
    {
     "name": "stdout",
     "output_type": "stream",
     "text": [
      "Finished epoch:2 || Total Loss:0.0167 || Reconstruction Loss:0.0130 || Quantization Loss:0.0037\n"
     ]
    },
    {
     "name": "stderr",
     "output_type": "stream",
     "text": [
      "100%|████████████████████████████████████████████████████████████████████████████████| 469/469 [00:16<00:00, 29.14it/s]\n"
     ]
    },
    {
     "name": "stdout",
     "output_type": "stream",
     "text": [
      "Finished epoch:3 || Total Loss:0.0148 || Reconstruction Loss:0.0118 || Quantization Loss:0.0031\n"
     ]
    },
    {
     "name": "stderr",
     "output_type": "stream",
     "text": [
      "100%|████████████████████████████████████████████████████████████████████████████████| 469/469 [00:15<00:00, 29.54it/s]\n"
     ]
    },
    {
     "name": "stdout",
     "output_type": "stream",
     "text": [
      "Finished epoch:4 || Total Loss:0.0134 || Reconstruction Loss:0.0110 || Quantization Loss:0.0024\n"
     ]
    },
    {
     "name": "stderr",
     "output_type": "stream",
     "text": [
      "100%|████████████████████████████████████████████████████████████████████████████████| 469/469 [00:16<00:00, 29.06it/s]\n"
     ]
    },
    {
     "name": "stdout",
     "output_type": "stream",
     "text": [
      "Finished epoch:5 || Total Loss:0.0128 || Reconstruction Loss:0.0102 || Quantization Loss:0.0025\n"
     ]
    },
    {
     "name": "stderr",
     "output_type": "stream",
     "text": [
      "100%|████████████████████████████████████████████████████████████████████████████████| 469/469 [00:15<00:00, 29.50it/s]\n"
     ]
    },
    {
     "name": "stdout",
     "output_type": "stream",
     "text": [
      "Finished epoch:6 || Total Loss:0.0121 || Reconstruction Loss:0.0089 || Quantization Loss:0.0032\n"
     ]
    },
    {
     "name": "stderr",
     "output_type": "stream",
     "text": [
      "100%|████████████████████████████████████████████████████████████████████████████████| 469/469 [00:15<00:00, 30.02it/s]\n"
     ]
    },
    {
     "name": "stdout",
     "output_type": "stream",
     "text": [
      "Finished epoch:7 || Total Loss:0.0118 || Reconstruction Loss:0.0080 || Quantization Loss:0.0038\n"
     ]
    },
    {
     "name": "stderr",
     "output_type": "stream",
     "text": [
      "100%|████████████████████████████████████████████████████████████████████████████████| 469/469 [00:15<00:00, 29.50it/s]\n"
     ]
    },
    {
     "name": "stdout",
     "output_type": "stream",
     "text": [
      "Finished epoch:8 || Total Loss:0.0113 || Reconstruction Loss:0.0068 || Quantization Loss:0.0045\n"
     ]
    },
    {
     "name": "stderr",
     "output_type": "stream",
     "text": [
      "100%|████████████████████████████████████████████████████████████████████████████████| 469/469 [00:16<00:00, 29.22it/s]\n"
     ]
    },
    {
     "name": "stdout",
     "output_type": "stream",
     "text": [
      "Finished epoch:9 || Total Loss:0.0111 || Reconstruction Loss:0.0063 || Quantization Loss:0.0048\n"
     ]
    },
    {
     "name": "stderr",
     "output_type": "stream",
     "text": [
      "100%|████████████████████████████████████████████████████████████████████████████████| 469/469 [00:15<00:00, 30.11it/s]\n"
     ]
    },
    {
     "name": "stdout",
     "output_type": "stream",
     "text": [
      "Finished epoch:10 || Total Loss:0.0110 || Reconstruction Loss:0.0061 || Quantization Loss:0.0049\n"
     ]
    },
    {
     "name": "stderr",
     "output_type": "stream",
     "text": [
      "100%|████████████████████████████████████████████████████████████████████████████████| 469/469 [00:15<00:00, 29.75it/s]\n"
     ]
    },
    {
     "name": "stdout",
     "output_type": "stream",
     "text": [
      "Finished epoch:11 || Total Loss:0.0110 || Reconstruction Loss:0.0059 || Quantization Loss:0.0051\n"
     ]
    },
    {
     "name": "stderr",
     "output_type": "stream",
     "text": [
      "100%|████████████████████████████████████████████████████████████████████████████████| 469/469 [00:15<00:00, 29.52it/s]\n"
     ]
    },
    {
     "name": "stdout",
     "output_type": "stream",
     "text": [
      "Finished epoch:12 || Total Loss:0.0109 || Reconstruction Loss:0.0057 || Quantization Loss:0.0052\n"
     ]
    },
    {
     "name": "stderr",
     "output_type": "stream",
     "text": [
      "100%|████████████████████████████████████████████████████████████████████████████████| 469/469 [00:16<00:00, 29.11it/s]\n"
     ]
    },
    {
     "name": "stdout",
     "output_type": "stream",
     "text": [
      "Finished epoch:13 || Total Loss:0.0107 || Reconstruction Loss:0.0055 || Quantization Loss:0.0052\n"
     ]
    },
    {
     "name": "stderr",
     "output_type": "stream",
     "text": [
      "100%|████████████████████████████████████████████████████████████████████████████████| 469/469 [00:15<00:00, 29.35it/s]\n"
     ]
    },
    {
     "name": "stdout",
     "output_type": "stream",
     "text": [
      "Finished epoch:14 || Total Loss:0.0108 || Reconstruction Loss:0.0053 || Quantization Loss:0.0055\n"
     ]
    },
    {
     "name": "stderr",
     "output_type": "stream",
     "text": [
      "100%|████████████████████████████████████████████████████████████████████████████████| 469/469 [00:16<00:00, 27.80it/s]\n"
     ]
    },
    {
     "name": "stdout",
     "output_type": "stream",
     "text": [
      "Finished epoch:15 || Total Loss:0.0109 || Reconstruction Loss:0.0052 || Quantization Loss:0.0057\n"
     ]
    },
    {
     "name": "stderr",
     "output_type": "stream",
     "text": [
      "100%|████████████████████████████████████████████████████████████████████████████████| 469/469 [00:16<00:00, 29.23it/s]\n"
     ]
    },
    {
     "name": "stdout",
     "output_type": "stream",
     "text": [
      "Finished epoch:16 || Total Loss:0.0109 || Reconstruction Loss:0.0051 || Quantization Loss:0.0058\n"
     ]
    },
    {
     "name": "stderr",
     "output_type": "stream",
     "text": [
      "100%|████████████████████████████████████████████████████████████████████████████████| 469/469 [00:15<00:00, 29.59it/s]\n"
     ]
    },
    {
     "name": "stdout",
     "output_type": "stream",
     "text": [
      "Finished epoch:17 || Total Loss:0.0109 || Reconstruction Loss:0.0050 || Quantization Loss:0.0059\n"
     ]
    },
    {
     "name": "stderr",
     "output_type": "stream",
     "text": [
      "100%|████████████████████████████████████████████████████████████████████████████████| 469/469 [00:16<00:00, 28.73it/s]\n"
     ]
    },
    {
     "name": "stdout",
     "output_type": "stream",
     "text": [
      "Finished epoch:18 || Total Loss:0.0109 || Reconstruction Loss:0.0049 || Quantization Loss:0.0059\n"
     ]
    },
    {
     "name": "stderr",
     "output_type": "stream",
     "text": [
      "100%|████████████████████████████████████████████████████████████████████████████████| 469/469 [00:16<00:00, 29.12it/s]\n"
     ]
    },
    {
     "name": "stdout",
     "output_type": "stream",
     "text": [
      "Finished epoch:19 || Total Loss:0.0109 || Reconstruction Loss:0.0049 || Quantization Loss:0.0060\n"
     ]
    },
    {
     "name": "stderr",
     "output_type": "stream",
     "text": [
      "100%|████████████████████████████████████████████████████████████████████████████████| 469/469 [00:19<00:00, 23.51it/s]\n"
     ]
    },
    {
     "name": "stdout",
     "output_type": "stream",
     "text": [
      "Finished epoch:20 || Total Loss:0.0108 || Reconstruction Loss:0.0049 || Quantization Loss:0.0059\n",
      "**************************************************************************************************\n"
     ]
    }
   ],
   "source": [
    "# Set device\n",
    "device = torch.device('cuda' if torch.cuda.is_available() else 'cpu')\n",
    "\n",
    "# number of codebook vectros\n",
    "numvecs = [3, 10, 25, 50]\n",
    "\n",
    "# Define a dict for save the outputs of models\n",
    "outputs_numvecs = {}\n",
    "\n",
    "# Loop through the number of codebook vectors\n",
    "for num in numvecs:\n",
    "    \n",
    "    # Create a model and move to the device\n",
    "    model_rgb = VQVAERGB(numvectors=num, dimvectors=2).to(device)\n",
    "    \n",
    "    # train for 20 epochs\n",
    "    output_batch = train_rgb(model_rgb = model_rgb , num_epochs = 20 )\n",
    "    \n",
    "    # save the outputs for comprasion\n",
    "    outputs_numvecs[num] = output_batch\n",
    "    "
   ]
  },
  {
   "cell_type": "code",
   "execution_count": 17,
   "id": "eae68da2",
   "metadata": {},
   "outputs": [],
   "source": [
    "# A function for plot RGB image as a grid\n",
    "def plot_rgb_grid(output_batch, title):\n",
    "    \n",
    "    batch = output_batch.detach()\n",
    "    images = []\n",
    "    \n",
    "    for i in range(4):\n",
    "        img_rgb_gen = rgb_to_plot(batch[i].reshape(3, 28, 28))\n",
    "        images.append(img_rgb_gen)\n",
    "    \n",
    "    \n",
    "    \n",
    "    # Create a 2x2 grid of subplots\n",
    "    fig, axs = plt.subplots(2, 2, figsize=(4, 4))\n",
    "\n",
    "    # Plot each RGB image on the subplots\n",
    "    axs[0, 0].imshow(images[0])\n",
    "    axs[0, 1].imshow(images[1])\n",
    "    axs[1, 0].imshow(images[2])\n",
    "    axs[1, 1].imshow(images[3])\n",
    "\n",
    "    # Hide the x and y axis labels\n",
    "    for ax in axs.flat:\n",
    "        ax.set(xlabel='', ylabel='')\n",
    "        ax.get_xaxis().set_visible(False)\n",
    "        ax.get_yaxis().set_visible(False)\n",
    "\n",
    "    # Set a title for the entire grid\n",
    "    fig.suptitle(f'Number of Codebook Vectors:{title}', fontsize=16)\n",
    "\n",
    "    # Adjust layout\n",
    "    plt.tight_layout(rect=[0, 0, 1, 0.96])\n",
    "\n",
    "    # Show the plot\n",
    "    plt.show()\n",
    "    plt.figure()"
   ]
  },
  {
   "cell_type": "code",
   "execution_count": 18,
   "id": "310294ea",
   "metadata": {},
   "outputs": [
    {
     "data": {
      "image/png": "[encoded data removed]",
      "text/plain": [
       "<Figure size 400x400 with 4 Axes>"
      ]
     },
     "metadata": {},
     "output_type": "display_data"
    },
    {
     "data": {
      "text/plain": [
       "<Figure size 640x480 with 0 Axes>"
      ]
     },
     "metadata": {},
     "output_type": "display_data"
    },
    {
     "data": {
      "image/png": "[encoded data removed]",
      "text/plain": [
       "<Figure size 400x400 with 4 Axes>"
      ]
     },
     "metadata": {},
     "output_type": "display_data"
    },
    {
     "data": {
      "text/plain": [
       "<Figure size 640x480 with 0 Axes>"
      ]
     },
     "metadata": {},
     "output_type": "display_data"
    },
    {
     "data": {
      "image/png": "[encoded data removed]",
      "text/plain": [
       "<Figure size 400x400 with 4 Axes>"
      ]
     },
     "metadata": {},
     "output_type": "display_data"
    },
    {
     "data": {
      "text/plain": [
       "<Figure size 640x480 with 0 Axes>"
      ]
     },
     "metadata": {},
     "output_type": "display_data"
    },
    {
     "data": {
      "image/png": "[encoded data removed]",
      "text/plain": [
       "<Figure size 400x400 with 4 Axes>"
      ]
     },
     "metadata": {},
     "output_type": "display_data"
    },
    {
     "data": {
      "text/plain": [
       "<Figure size 640x480 with 0 Axes>"
      ]
     },
     "metadata": {},
     "output_type": "display_data"
    }
   ],
   "source": [
    "# loop through the number of vectors\n",
    "for num in numvecs:\n",
    "    plot_rgb_grid(outputs_numvecs[num], num)"
   ]
  },
  {
   "cell_type": "markdown",
   "id": "63d21996",
   "metadata": {},
   "source": [
    "### As you see with more vectors in codebook, we can capture more information, color information and the quantization loss decreases, so the reconstructed images have higher resolution. Also the Total loss for 3,10,25, and 50 codebook vectors are 0.0362, 0.0201, 0.0148, and 0.0108  recpectively. As you see the loss decreases with increasment of codebook vectros number."
   ]
  },
  {
   "cell_type": "markdown",
   "id": "27adc74e",
   "metadata": {},
   "source": [
    "## c"
   ]
  },
  {
   "cell_type": "code",
   "execution_count": 41,
   "id": "1797a863",
   "metadata": {
    "scrolled": true
   },
   "outputs": [
    {
     "name": "stderr",
     "output_type": "stream",
     "text": [
      "100%|████████████████████████████████████████████████████████████████████████████████| 469/469 [00:41<00:00, 11.29it/s]\n"
     ]
    },
    {
     "name": "stdout",
     "output_type": "stream",
     "text": [
      "Finished epoch:1 || Total Loss:0.2877 || Reconstruction Loss:0.0324 || Quantization Loss:0.2553\n"
     ]
    },
    {
     "name": "stderr",
     "output_type": "stream",
     "text": [
      "100%|████████████████████████████████████████████████████████████████████████████████| 469/469 [00:41<00:00, 11.39it/s]\n"
     ]
    },
    {
     "name": "stdout",
     "output_type": "stream",
     "text": [
      "Finished epoch:2 || Total Loss:0.0328 || Reconstruction Loss:0.0192 || Quantization Loss:0.0136\n"
     ]
    },
    {
     "name": "stderr",
     "output_type": "stream",
     "text": [
      "100%|████████████████████████████████████████████████████████████████████████████████| 469/469 [00:40<00:00, 11.45it/s]\n"
     ]
    },
    {
     "name": "stdout",
     "output_type": "stream",
     "text": [
      "Finished epoch:3 || Total Loss:0.0350 || Reconstruction Loss:0.0187 || Quantization Loss:0.0163\n"
     ]
    },
    {
     "name": "stderr",
     "output_type": "stream",
     "text": [
      "100%|████████████████████████████████████████████████████████████████████████████████| 469/469 [00:40<00:00, 11.52it/s]\n"
     ]
    },
    {
     "name": "stdout",
     "output_type": "stream",
     "text": [
      "Finished epoch:4 || Total Loss:0.0358 || Reconstruction Loss:0.0185 || Quantization Loss:0.0174\n"
     ]
    },
    {
     "name": "stderr",
     "output_type": "stream",
     "text": [
      "100%|████████████████████████████████████████████████████████████████████████████████| 469/469 [00:40<00:00, 11.51it/s]\n"
     ]
    },
    {
     "name": "stdout",
     "output_type": "stream",
     "text": [
      "Finished epoch:5 || Total Loss:0.0354 || Reconstruction Loss:0.0187 || Quantization Loss:0.0168\n"
     ]
    },
    {
     "name": "stderr",
     "output_type": "stream",
     "text": [
      "100%|████████████████████████████████████████████████████████████████████████████████| 469/469 [00:25<00:00, 18.19it/s]\n"
     ]
    },
    {
     "name": "stdout",
     "output_type": "stream",
     "text": [
      "Finished epoch:6 || Total Loss:0.0358 || Reconstruction Loss:0.0186 || Quantization Loss:0.0172\n"
     ]
    },
    {
     "name": "stderr",
     "output_type": "stream",
     "text": [
      "100%|████████████████████████████████████████████████████████████████████████████████| 469/469 [00:15<00:00, 30.87it/s]\n"
     ]
    },
    {
     "name": "stdout",
     "output_type": "stream",
     "text": [
      "Finished epoch:7 || Total Loss:0.0365 || Reconstruction Loss:0.0186 || Quantization Loss:0.0179\n"
     ]
    },
    {
     "name": "stderr",
     "output_type": "stream",
     "text": [
      "100%|████████████████████████████████████████████████████████████████████████████████| 469/469 [00:15<00:00, 29.69it/s]\n"
     ]
    },
    {
     "name": "stdout",
     "output_type": "stream",
     "text": [
      "Finished epoch:8 || Total Loss:0.0360 || Reconstruction Loss:0.0185 || Quantization Loss:0.0175\n"
     ]
    },
    {
     "name": "stderr",
     "output_type": "stream",
     "text": [
      "100%|████████████████████████████████████████████████████████████████████████████████| 469/469 [00:14<00:00, 31.80it/s]\n"
     ]
    },
    {
     "name": "stdout",
     "output_type": "stream",
     "text": [
      "Finished epoch:9 || Total Loss:0.0349 || Reconstruction Loss:0.0185 || Quantization Loss:0.0164\n"
     ]
    },
    {
     "name": "stderr",
     "output_type": "stream",
     "text": [
      "100%|████████████████████████████████████████████████████████████████████████████████| 469/469 [00:16<00:00, 28.81it/s]\n"
     ]
    },
    {
     "name": "stdout",
     "output_type": "stream",
     "text": [
      "Finished epoch:10 || Total Loss:0.0347 || Reconstruction Loss:0.0185 || Quantization Loss:0.0163\n"
     ]
    },
    {
     "name": "stderr",
     "output_type": "stream",
     "text": [
      "100%|████████████████████████████████████████████████████████████████████████████████| 469/469 [00:16<00:00, 29.12it/s]\n"
     ]
    },
    {
     "name": "stdout",
     "output_type": "stream",
     "text": [
      "Finished epoch:11 || Total Loss:0.0344 || Reconstruction Loss:0.0183 || Quantization Loss:0.0160\n"
     ]
    },
    {
     "name": "stderr",
     "output_type": "stream",
     "text": [
      "100%|████████████████████████████████████████████████████████████████████████████████| 469/469 [00:16<00:00, 28.54it/s]\n"
     ]
    },
    {
     "name": "stdout",
     "output_type": "stream",
     "text": [
      "Finished epoch:12 || Total Loss:0.0351 || Reconstruction Loss:0.0183 || Quantization Loss:0.0168\n"
     ]
    },
    {
     "name": "stderr",
     "output_type": "stream",
     "text": [
      "100%|████████████████████████████████████████████████████████████████████████████████| 469/469 [00:16<00:00, 28.54it/s]\n"
     ]
    },
    {
     "name": "stdout",
     "output_type": "stream",
     "text": [
      "Finished epoch:13 || Total Loss:0.0361 || Reconstruction Loss:0.0182 || Quantization Loss:0.0179\n"
     ]
    },
    {
     "name": "stderr",
     "output_type": "stream",
     "text": [
      "100%|████████████████████████████████████████████████████████████████████████████████| 469/469 [00:17<00:00, 27.21it/s]\n"
     ]
    },
    {
     "name": "stdout",
     "output_type": "stream",
     "text": [
      "Finished epoch:14 || Total Loss:0.0375 || Reconstruction Loss:0.0181 || Quantization Loss:0.0194\n"
     ]
    },
    {
     "name": "stderr",
     "output_type": "stream",
     "text": [
      "100%|████████████████████████████████████████████████████████████████████████████████| 469/469 [00:16<00:00, 28.18it/s]\n"
     ]
    },
    {
     "name": "stdout",
     "output_type": "stream",
     "text": [
      "Finished epoch:15 || Total Loss:0.0389 || Reconstruction Loss:0.0178 || Quantization Loss:0.0211\n"
     ]
    },
    {
     "name": "stderr",
     "output_type": "stream",
     "text": [
      "100%|████████████████████████████████████████████████████████████████████████████████| 469/469 [00:16<00:00, 29.30it/s]\n"
     ]
    },
    {
     "name": "stdout",
     "output_type": "stream",
     "text": [
      "Finished epoch:16 || Total Loss:0.0408 || Reconstruction Loss:0.0178 || Quantization Loss:0.0231\n"
     ]
    },
    {
     "name": "stderr",
     "output_type": "stream",
     "text": [
      "100%|████████████████████████████████████████████████████████████████████████████████| 469/469 [00:17<00:00, 27.30it/s]\n"
     ]
    },
    {
     "name": "stdout",
     "output_type": "stream",
     "text": [
      "Finished epoch:17 || Total Loss:0.0415 || Reconstruction Loss:0.0181 || Quantization Loss:0.0235\n"
     ]
    },
    {
     "name": "stderr",
     "output_type": "stream",
     "text": [
      "100%|████████████████████████████████████████████████████████████████████████████████| 469/469 [00:16<00:00, 28.22it/s]\n"
     ]
    },
    {
     "name": "stdout",
     "output_type": "stream",
     "text": [
      "Finished epoch:18 || Total Loss:0.0420 || Reconstruction Loss:0.0183 || Quantization Loss:0.0237\n"
     ]
    },
    {
     "name": "stderr",
     "output_type": "stream",
     "text": [
      "100%|████████████████████████████████████████████████████████████████████████████████| 469/469 [00:16<00:00, 28.65it/s]\n"
     ]
    },
    {
     "name": "stdout",
     "output_type": "stream",
     "text": [
      "Finished epoch:19 || Total Loss:0.0424 || Reconstruction Loss:0.0189 || Quantization Loss:0.0235\n"
     ]
    },
    {
     "name": "stderr",
     "output_type": "stream",
     "text": [
      "100%|████████████████████████████████████████████████████████████████████████████████| 469/469 [00:16<00:00, 28.51it/s]\n"
     ]
    },
    {
     "name": "stdout",
     "output_type": "stream",
     "text": [
      "Finished epoch:20 || Total Loss:0.0411 || Reconstruction Loss:0.0192 || Quantization Loss:0.0219\n",
      "**************************************************************************************************\n"
     ]
    },
    {
     "name": "stderr",
     "output_type": "stream",
     "text": [
      "100%|████████████████████████████████████████████████████████████████████████████████| 469/469 [00:16<00:00, 28.70it/s]\n"
     ]
    },
    {
     "name": "stdout",
     "output_type": "stream",
     "text": [
      "Finished epoch:1 || Total Loss:0.2986 || Reconstruction Loss:0.0363 || Quantization Loss:0.2623\n"
     ]
    },
    {
     "name": "stderr",
     "output_type": "stream",
     "text": [
      "100%|████████████████████████████████████████████████████████████████████████████████| 469/469 [00:17<00:00, 27.47it/s]\n"
     ]
    },
    {
     "name": "stdout",
     "output_type": "stream",
     "text": [
      "Finished epoch:2 || Total Loss:0.0380 || Reconstruction Loss:0.0195 || Quantization Loss:0.0185\n"
     ]
    },
    {
     "name": "stderr",
     "output_type": "stream",
     "text": [
      "100%|████████████████████████████████████████████████████████████████████████████████| 469/469 [00:16<00:00, 28.74it/s]\n"
     ]
    },
    {
     "name": "stdout",
     "output_type": "stream",
     "text": [
      "Finished epoch:3 || Total Loss:0.0436 || Reconstruction Loss:0.0193 || Quantization Loss:0.0244\n"
     ]
    },
    {
     "name": "stderr",
     "output_type": "stream",
     "text": [
      "100%|████████████████████████████████████████████████████████████████████████████████| 469/469 [00:17<00:00, 27.06it/s]\n"
     ]
    },
    {
     "name": "stdout",
     "output_type": "stream",
     "text": [
      "Finished epoch:4 || Total Loss:0.0510 || Reconstruction Loss:0.0193 || Quantization Loss:0.0317\n"
     ]
    },
    {
     "name": "stderr",
     "output_type": "stream",
     "text": [
      "100%|████████████████████████████████████████████████████████████████████████████████| 469/469 [00:18<00:00, 26.00it/s]\n"
     ]
    },
    {
     "name": "stdout",
     "output_type": "stream",
     "text": [
      "Finished epoch:5 || Total Loss:0.0493 || Reconstruction Loss:0.0192 || Quantization Loss:0.0301\n"
     ]
    },
    {
     "name": "stderr",
     "output_type": "stream",
     "text": [
      "100%|████████████████████████████████████████████████████████████████████████████████| 469/469 [00:17<00:00, 26.18it/s]\n"
     ]
    },
    {
     "name": "stdout",
     "output_type": "stream",
     "text": [
      "Finished epoch:6 || Total Loss:0.0515 || Reconstruction Loss:0.0192 || Quantization Loss:0.0322\n"
     ]
    },
    {
     "name": "stderr",
     "output_type": "stream",
     "text": [
      "100%|████████████████████████████████████████████████████████████████████████████████| 469/469 [00:17<00:00, 27.41it/s]\n"
     ]
    },
    {
     "name": "stdout",
     "output_type": "stream",
     "text": [
      "Finished epoch:7 || Total Loss:0.0520 || Reconstruction Loss:0.0192 || Quantization Loss:0.0328\n"
     ]
    },
    {
     "name": "stderr",
     "output_type": "stream",
     "text": [
      "100%|████████████████████████████████████████████████████████████████████████████████| 469/469 [00:17<00:00, 27.48it/s]\n"
     ]
    },
    {
     "name": "stdout",
     "output_type": "stream",
     "text": [
      "Finished epoch:8 || Total Loss:0.0517 || Reconstruction Loss:0.0192 || Quantization Loss:0.0325\n"
     ]
    },
    {
     "name": "stderr",
     "output_type": "stream",
     "text": [
      "100%|████████████████████████████████████████████████████████████████████████████████| 469/469 [00:17<00:00, 27.28it/s]\n"
     ]
    },
    {
     "name": "stdout",
     "output_type": "stream",
     "text": [
      "Finished epoch:9 || Total Loss:0.0499 || Reconstruction Loss:0.0191 || Quantization Loss:0.0307\n"
     ]
    },
    {
     "name": "stderr",
     "output_type": "stream",
     "text": [
      "100%|████████████████████████████████████████████████████████████████████████████████| 469/469 [00:18<00:00, 25.96it/s]\n"
     ]
    },
    {
     "name": "stdout",
     "output_type": "stream",
     "text": [
      "Finished epoch:10 || Total Loss:0.0510 || Reconstruction Loss:0.0193 || Quantization Loss:0.0316\n"
     ]
    },
    {
     "name": "stderr",
     "output_type": "stream",
     "text": [
      "100%|████████████████████████████████████████████████████████████████████████████████| 469/469 [00:17<00:00, 27.35it/s]\n"
     ]
    },
    {
     "name": "stdout",
     "output_type": "stream",
     "text": [
      "Finished epoch:11 || Total Loss:0.0510 || Reconstruction Loss:0.0203 || Quantization Loss:0.0308\n"
     ]
    },
    {
     "name": "stderr",
     "output_type": "stream",
     "text": [
      "100%|████████████████████████████████████████████████████████████████████████████████| 469/469 [00:18<00:00, 25.32it/s]\n"
     ]
    },
    {
     "name": "stdout",
     "output_type": "stream",
     "text": [
      "Finished epoch:12 || Total Loss:0.0492 || Reconstruction Loss:0.0207 || Quantization Loss:0.0285\n"
     ]
    },
    {
     "name": "stderr",
     "output_type": "stream",
     "text": [
      "100%|████████████████████████████████████████████████████████████████████████████████| 469/469 [00:17<00:00, 26.73it/s]\n"
     ]
    },
    {
     "name": "stdout",
     "output_type": "stream",
     "text": [
      "Finished epoch:13 || Total Loss:0.0453 || Reconstruction Loss:0.0206 || Quantization Loss:0.0247\n"
     ]
    },
    {
     "name": "stderr",
     "output_type": "stream",
     "text": [
      "100%|████████████████████████████████████████████████████████████████████████████████| 469/469 [00:17<00:00, 27.52it/s]\n"
     ]
    },
    {
     "name": "stdout",
     "output_type": "stream",
     "text": [
      "Finished epoch:14 || Total Loss:0.0447 || Reconstruction Loss:0.0204 || Quantization Loss:0.0243\n"
     ]
    },
    {
     "name": "stderr",
     "output_type": "stream",
     "text": [
      "100%|████████████████████████████████████████████████████████████████████████████████| 469/469 [00:18<00:00, 25.36it/s]\n"
     ]
    },
    {
     "name": "stdout",
     "output_type": "stream",
     "text": [
      "Finished epoch:15 || Total Loss:0.0427 || Reconstruction Loss:0.0203 || Quantization Loss:0.0225\n"
     ]
    },
    {
     "name": "stderr",
     "output_type": "stream",
     "text": [
      "100%|████████████████████████████████████████████████████████████████████████████████| 469/469 [00:17<00:00, 26.58it/s]\n"
     ]
    },
    {
     "name": "stdout",
     "output_type": "stream",
     "text": [
      "Finished epoch:16 || Total Loss:0.0417 || Reconstruction Loss:0.0204 || Quantization Loss:0.0213\n"
     ]
    },
    {
     "name": "stderr",
     "output_type": "stream",
     "text": [
      "100%|████████████████████████████████████████████████████████████████████████████████| 469/469 [00:18<00:00, 25.06it/s]\n"
     ]
    },
    {
     "name": "stdout",
     "output_type": "stream",
     "text": [
      "Finished epoch:17 || Total Loss:0.0427 || Reconstruction Loss:0.0204 || Quantization Loss:0.0223\n"
     ]
    },
    {
     "name": "stderr",
     "output_type": "stream",
     "text": [
      "100%|████████████████████████████████████████████████████████████████████████████████| 469/469 [00:18<00:00, 25.03it/s]\n"
     ]
    },
    {
     "name": "stdout",
     "output_type": "stream",
     "text": [
      "Finished epoch:18 || Total Loss:0.0459 || Reconstruction Loss:0.0200 || Quantization Loss:0.0260\n"
     ]
    },
    {
     "name": "stderr",
     "output_type": "stream",
     "text": [
      "100%|████████████████████████████████████████████████████████████████████████████████| 469/469 [00:17<00:00, 26.40it/s]\n"
     ]
    },
    {
     "name": "stdout",
     "output_type": "stream",
     "text": [
      "Finished epoch:19 || Total Loss:0.0454 || Reconstruction Loss:0.0205 || Quantization Loss:0.0249\n"
     ]
    },
    {
     "name": "stderr",
     "output_type": "stream",
     "text": [
      "100%|████████████████████████████████████████████████████████████████████████████████| 469/469 [00:16<00:00, 28.00it/s]\n"
     ]
    },
    {
     "name": "stdout",
     "output_type": "stream",
     "text": [
      "Finished epoch:20 || Total Loss:0.0451 || Reconstruction Loss:0.0210 || Quantization Loss:0.0241\n",
      "**************************************************************************************************\n"
     ]
    },
    {
     "name": "stderr",
     "output_type": "stream",
     "text": [
      "100%|████████████████████████████████████████████████████████████████████████████████| 469/469 [00:16<00:00, 27.69it/s]\n"
     ]
    },
    {
     "name": "stdout",
     "output_type": "stream",
     "text": [
      "Finished epoch:1 || Total Loss:0.4125 || Reconstruction Loss:0.0347 || Quantization Loss:0.3778\n"
     ]
    },
    {
     "name": "stderr",
     "output_type": "stream",
     "text": [
      "100%|████████████████████████████████████████████████████████████████████████████████| 469/469 [00:17<00:00, 26.89it/s]\n"
     ]
    },
    {
     "name": "stdout",
     "output_type": "stream",
     "text": [
      "Finished epoch:2 || Total Loss:0.0535 || Reconstruction Loss:0.0182 || Quantization Loss:0.0353\n"
     ]
    },
    {
     "name": "stderr",
     "output_type": "stream",
     "text": [
      "100%|████████████████████████████████████████████████████████████████████████████████| 469/469 [00:17<00:00, 26.47it/s]\n"
     ]
    },
    {
     "name": "stdout",
     "output_type": "stream",
     "text": [
      "Finished epoch:3 || Total Loss:0.0510 || Reconstruction Loss:0.0176 || Quantization Loss:0.0334\n"
     ]
    },
    {
     "name": "stderr",
     "output_type": "stream",
     "text": [
      "100%|████████████████████████████████████████████████████████████████████████████████| 469/469 [00:17<00:00, 26.66it/s]\n"
     ]
    },
    {
     "name": "stdout",
     "output_type": "stream",
     "text": [
      "Finished epoch:4 || Total Loss:0.0490 || Reconstruction Loss:0.0173 || Quantization Loss:0.0317\n"
     ]
    },
    {
     "name": "stderr",
     "output_type": "stream",
     "text": [
      "100%|████████████████████████████████████████████████████████████████████████████████| 469/469 [00:17<00:00, 26.65it/s]\n"
     ]
    },
    {
     "name": "stdout",
     "output_type": "stream",
     "text": [
      "Finished epoch:5 || Total Loss:0.0470 || Reconstruction Loss:0.0172 || Quantization Loss:0.0298\n"
     ]
    },
    {
     "name": "stderr",
     "output_type": "stream",
     "text": [
      "100%|████████████████████████████████████████████████████████████████████████████████| 469/469 [00:16<00:00, 27.87it/s]\n"
     ]
    },
    {
     "name": "stdout",
     "output_type": "stream",
     "text": [
      "Finished epoch:6 || Total Loss:0.0451 || Reconstruction Loss:0.0170 || Quantization Loss:0.0280\n"
     ]
    },
    {
     "name": "stderr",
     "output_type": "stream",
     "text": [
      "100%|████████████████████████████████████████████████████████████████████████████████| 469/469 [00:17<00:00, 27.23it/s]\n"
     ]
    },
    {
     "name": "stdout",
     "output_type": "stream",
     "text": [
      "Finished epoch:7 || Total Loss:0.0432 || Reconstruction Loss:0.0169 || Quantization Loss:0.0263\n"
     ]
    },
    {
     "name": "stderr",
     "output_type": "stream",
     "text": [
      "100%|████████████████████████████████████████████████████████████████████████████████| 469/469 [00:17<00:00, 26.41it/s]\n"
     ]
    },
    {
     "name": "stdout",
     "output_type": "stream",
     "text": [
      "Finished epoch:8 || Total Loss:0.0410 || Reconstruction Loss:0.0167 || Quantization Loss:0.0243\n"
     ]
    },
    {
     "name": "stderr",
     "output_type": "stream",
     "text": [
      "100%|████████████████████████████████████████████████████████████████████████████████| 469/469 [00:17<00:00, 26.31it/s]\n"
     ]
    },
    {
     "name": "stdout",
     "output_type": "stream",
     "text": [
      "Finished epoch:9 || Total Loss:0.0405 || Reconstruction Loss:0.0167 || Quantization Loss:0.0238\n"
     ]
    },
    {
     "name": "stderr",
     "output_type": "stream",
     "text": [
      "100%|████████████████████████████████████████████████████████████████████████████████| 469/469 [00:17<00:00, 27.46it/s]\n"
     ]
    },
    {
     "name": "stdout",
     "output_type": "stream",
     "text": [
      "Finished epoch:10 || Total Loss:0.0414 || Reconstruction Loss:0.0170 || Quantization Loss:0.0244\n"
     ]
    },
    {
     "name": "stderr",
     "output_type": "stream",
     "text": [
      "100%|████████████████████████████████████████████████████████████████████████████████| 469/469 [00:17<00:00, 26.81it/s]\n"
     ]
    },
    {
     "name": "stdout",
     "output_type": "stream",
     "text": [
      "Finished epoch:11 || Total Loss:0.0411 || Reconstruction Loss:0.0177 || Quantization Loss:0.0234\n"
     ]
    },
    {
     "name": "stderr",
     "output_type": "stream",
     "text": [
      "100%|████████████████████████████████████████████████████████████████████████████████| 469/469 [00:17<00:00, 26.34it/s]\n"
     ]
    },
    {
     "name": "stdout",
     "output_type": "stream",
     "text": [
      "Finished epoch:12 || Total Loss:0.0387 || Reconstruction Loss:0.0189 || Quantization Loss:0.0198\n"
     ]
    },
    {
     "name": "stderr",
     "output_type": "stream",
     "text": [
      "100%|████████████████████████████████████████████████████████████████████████████████| 469/469 [00:18<00:00, 25.90it/s]\n"
     ]
    },
    {
     "name": "stdout",
     "output_type": "stream",
     "text": [
      "Finished epoch:13 || Total Loss:0.0368 || Reconstruction Loss:0.0198 || Quantization Loss:0.0170\n"
     ]
    },
    {
     "name": "stderr",
     "output_type": "stream",
     "text": [
      "100%|████████████████████████████████████████████████████████████████████████████████| 469/469 [00:18<00:00, 25.56it/s]\n"
     ]
    },
    {
     "name": "stdout",
     "output_type": "stream",
     "text": [
      "Finished epoch:14 || Total Loss:0.0368 || Reconstruction Loss:0.0203 || Quantization Loss:0.0165\n"
     ]
    },
    {
     "name": "stderr",
     "output_type": "stream",
     "text": [
      "100%|████████████████████████████████████████████████████████████████████████████████| 469/469 [00:17<00:00, 27.01it/s]\n"
     ]
    },
    {
     "name": "stdout",
     "output_type": "stream",
     "text": [
      "Finished epoch:15 || Total Loss:0.0375 || Reconstruction Loss:0.0206 || Quantization Loss:0.0169\n"
     ]
    },
    {
     "name": "stderr",
     "output_type": "stream",
     "text": [
      "100%|████████████████████████████████████████████████████████████████████████████████| 469/469 [00:19<00:00, 24.64it/s]\n"
     ]
    },
    {
     "name": "stdout",
     "output_type": "stream",
     "text": [
      "Finished epoch:16 || Total Loss:0.0379 || Reconstruction Loss:0.0213 || Quantization Loss:0.0166\n"
     ]
    },
    {
     "name": "stderr",
     "output_type": "stream",
     "text": [
      "100%|████████████████████████████████████████████████████████████████████████████████| 469/469 [00:18<00:00, 24.81it/s]\n"
     ]
    },
    {
     "name": "stdout",
     "output_type": "stream",
     "text": [
      "Finished epoch:17 || Total Loss:0.0386 || Reconstruction Loss:0.0218 || Quantization Loss:0.0168\n"
     ]
    },
    {
     "name": "stderr",
     "output_type": "stream",
     "text": [
      "100%|████████████████████████████████████████████████████████████████████████████████| 469/469 [00:18<00:00, 25.06it/s]\n"
     ]
    },
    {
     "name": "stdout",
     "output_type": "stream",
     "text": [
      "Finished epoch:18 || Total Loss:0.0411 || Reconstruction Loss:0.0225 || Quantization Loss:0.0187\n"
     ]
    },
    {
     "name": "stderr",
     "output_type": "stream",
     "text": [
      "100%|████████████████████████████████████████████████████████████████████████████████| 469/469 [00:19<00:00, 24.59it/s]\n"
     ]
    },
    {
     "name": "stdout",
     "output_type": "stream",
     "text": [
      "Finished epoch:19 || Total Loss:0.0409 || Reconstruction Loss:0.0227 || Quantization Loss:0.0183\n"
     ]
    },
    {
     "name": "stderr",
     "output_type": "stream",
     "text": [
      "100%|████████████████████████████████████████████████████████████████████████████████| 469/469 [00:17<00:00, 26.11it/s]\n"
     ]
    },
    {
     "name": "stdout",
     "output_type": "stream",
     "text": [
      "Finished epoch:20 || Total Loss:0.0407 || Reconstruction Loss:0.0228 || Quantization Loss:0.0179\n",
      "**************************************************************************************************\n"
     ]
    },
    {
     "name": "stderr",
     "output_type": "stream",
     "text": [
      "100%|████████████████████████████████████████████████████████████████████████████████| 469/469 [00:20<00:00, 23.05it/s]\n"
     ]
    },
    {
     "name": "stdout",
     "output_type": "stream",
     "text": [
      "Finished epoch:1 || Total Loss:0.4188 || Reconstruction Loss:0.0358 || Quantization Loss:0.3830\n"
     ]
    },
    {
     "name": "stderr",
     "output_type": "stream",
     "text": [
      "100%|████████████████████████████████████████████████████████████████████████████████| 469/469 [00:20<00:00, 22.52it/s]\n"
     ]
    },
    {
     "name": "stdout",
     "output_type": "stream",
     "text": [
      "Finished epoch:2 || Total Loss:0.0484 || Reconstruction Loss:0.0187 || Quantization Loss:0.0298\n"
     ]
    },
    {
     "name": "stderr",
     "output_type": "stream",
     "text": [
      "100%|████████████████████████████████████████████████████████████████████████████████| 469/469 [00:20<00:00, 22.83it/s]\n"
     ]
    },
    {
     "name": "stdout",
     "output_type": "stream",
     "text": [
      "Finished epoch:3 || Total Loss:0.0423 || Reconstruction Loss:0.0185 || Quantization Loss:0.0239\n"
     ]
    },
    {
     "name": "stderr",
     "output_type": "stream",
     "text": [
      "100%|████████████████████████████████████████████████████████████████████████████████| 469/469 [00:20<00:00, 22.79it/s]\n"
     ]
    },
    {
     "name": "stdout",
     "output_type": "stream",
     "text": [
      "Finished epoch:4 || Total Loss:0.0431 || Reconstruction Loss:0.0184 || Quantization Loss:0.0247\n"
     ]
    },
    {
     "name": "stderr",
     "output_type": "stream",
     "text": [
      "100%|████████████████████████████████████████████████████████████████████████████████| 469/469 [00:20<00:00, 22.55it/s]\n"
     ]
    },
    {
     "name": "stdout",
     "output_type": "stream",
     "text": [
      "Finished epoch:5 || Total Loss:0.0479 || Reconstruction Loss:0.0186 || Quantization Loss:0.0293\n"
     ]
    },
    {
     "name": "stderr",
     "output_type": "stream",
     "text": [
      "100%|████████████████████████████████████████████████████████████████████████████████| 469/469 [00:20<00:00, 22.75it/s]\n"
     ]
    },
    {
     "name": "stdout",
     "output_type": "stream",
     "text": [
      "Finished epoch:6 || Total Loss:0.0511 || Reconstruction Loss:0.0187 || Quantization Loss:0.0325\n"
     ]
    },
    {
     "name": "stderr",
     "output_type": "stream",
     "text": [
      "100%|████████████████████████████████████████████████████████████████████████████████| 469/469 [00:20<00:00, 22.62it/s]\n"
     ]
    },
    {
     "name": "stdout",
     "output_type": "stream",
     "text": [
      "Finished epoch:7 || Total Loss:0.0534 || Reconstruction Loss:0.0187 || Quantization Loss:0.0347\n"
     ]
    },
    {
     "name": "stderr",
     "output_type": "stream",
     "text": [
      "100%|████████████████████████████████████████████████████████████████████████████████| 469/469 [00:23<00:00, 20.39it/s]\n"
     ]
    },
    {
     "name": "stdout",
     "output_type": "stream",
     "text": [
      "Finished epoch:8 || Total Loss:0.0532 || Reconstruction Loss:0.0187 || Quantization Loss:0.0346\n"
     ]
    },
    {
     "name": "stderr",
     "output_type": "stream",
     "text": [
      "100%|████████████████████████████████████████████████████████████████████████████████| 469/469 [00:22<00:00, 20.87it/s]\n"
     ]
    },
    {
     "name": "stdout",
     "output_type": "stream",
     "text": [
      "Finished epoch:9 || Total Loss:0.0622 || Reconstruction Loss:0.0189 || Quantization Loss:0.0433\n"
     ]
    },
    {
     "name": "stderr",
     "output_type": "stream",
     "text": [
      "100%|████████████████████████████████████████████████████████████████████████████████| 469/469 [00:22<00:00, 20.49it/s]\n"
     ]
    },
    {
     "name": "stdout",
     "output_type": "stream",
     "text": [
      "Finished epoch:10 || Total Loss:0.0751 || Reconstruction Loss:0.0203 || Quantization Loss:0.0548\n"
     ]
    },
    {
     "name": "stderr",
     "output_type": "stream",
     "text": [
      "100%|████████████████████████████████████████████████████████████████████████████████| 469/469 [00:23<00:00, 19.73it/s]\n"
     ]
    },
    {
     "name": "stdout",
     "output_type": "stream",
     "text": [
      "Finished epoch:11 || Total Loss:0.0721 || Reconstruction Loss:0.0209 || Quantization Loss:0.0512\n"
     ]
    },
    {
     "name": "stderr",
     "output_type": "stream",
     "text": [
      "100%|████████████████████████████████████████████████████████████████████████████████| 469/469 [00:25<00:00, 18.65it/s]\n"
     ]
    },
    {
     "name": "stdout",
     "output_type": "stream",
     "text": [
      "Finished epoch:12 || Total Loss:0.0646 || Reconstruction Loss:0.0219 || Quantization Loss:0.0428\n"
     ]
    },
    {
     "name": "stderr",
     "output_type": "stream",
     "text": [
      "100%|████████████████████████████████████████████████████████████████████████████████| 469/469 [00:22<00:00, 20.64it/s]\n"
     ]
    },
    {
     "name": "stdout",
     "output_type": "stream",
     "text": [
      "Finished epoch:13 || Total Loss:0.0582 || Reconstruction Loss:0.0208 || Quantization Loss:0.0374\n"
     ]
    },
    {
     "name": "stderr",
     "output_type": "stream",
     "text": [
      "100%|████████████████████████████████████████████████████████████████████████████████| 469/469 [00:23<00:00, 19.87it/s]\n"
     ]
    },
    {
     "name": "stdout",
     "output_type": "stream",
     "text": [
      "Finished epoch:14 || Total Loss:0.0519 || Reconstruction Loss:0.0216 || Quantization Loss:0.0303\n"
     ]
    },
    {
     "name": "stderr",
     "output_type": "stream",
     "text": [
      "100%|████████████████████████████████████████████████████████████████████████████████| 469/469 [00:23<00:00, 20.32it/s]\n"
     ]
    },
    {
     "name": "stdout",
     "output_type": "stream",
     "text": [
      "Finished epoch:15 || Total Loss:0.0499 || Reconstruction Loss:0.0216 || Quantization Loss:0.0283\n"
     ]
    },
    {
     "name": "stderr",
     "output_type": "stream",
     "text": [
      "100%|████████████████████████████████████████████████████████████████████████████████| 469/469 [00:21<00:00, 21.58it/s]\n"
     ]
    },
    {
     "name": "stdout",
     "output_type": "stream",
     "text": [
      "Finished epoch:16 || Total Loss:0.0475 || Reconstruction Loss:0.0212 || Quantization Loss:0.0263\n"
     ]
    },
    {
     "name": "stderr",
     "output_type": "stream",
     "text": [
      "100%|████████████████████████████████████████████████████████████████████████████████| 469/469 [00:21<00:00, 21.48it/s]\n"
     ]
    },
    {
     "name": "stdout",
     "output_type": "stream",
     "text": [
      "Finished epoch:17 || Total Loss:0.0432 || Reconstruction Loss:0.0202 || Quantization Loss:0.0230\n"
     ]
    },
    {
     "name": "stderr",
     "output_type": "stream",
     "text": [
      "100%|████████████████████████████████████████████████████████████████████████████████| 469/469 [00:21<00:00, 21.81it/s]\n"
     ]
    },
    {
     "name": "stdout",
     "output_type": "stream",
     "text": [
      "Finished epoch:18 || Total Loss:0.0439 || Reconstruction Loss:0.0201 || Quantization Loss:0.0238\n"
     ]
    },
    {
     "name": "stderr",
     "output_type": "stream",
     "text": [
      "100%|████████████████████████████████████████████████████████████████████████████████| 469/469 [00:21<00:00, 22.13it/s]\n"
     ]
    },
    {
     "name": "stdout",
     "output_type": "stream",
     "text": [
      "Finished epoch:19 || Total Loss:0.0435 || Reconstruction Loss:0.0203 || Quantization Loss:0.0232\n"
     ]
    },
    {
     "name": "stderr",
     "output_type": "stream",
     "text": [
      "100%|████████████████████████████████████████████████████████████████████████████████| 469/469 [00:21<00:00, 21.73it/s]\n"
     ]
    },
    {
     "name": "stdout",
     "output_type": "stream",
     "text": [
      "Finished epoch:20 || Total Loss:0.0409 || Reconstruction Loss:0.0203 || Quantization Loss:0.0206\n",
      "**************************************************************************************************\n"
     ]
    }
   ],
   "source": [
    "# Set device\n",
    "device = torch.device('cuda' if torch.cuda.is_available() else 'cpu')\n",
    "\n",
    "# list of dimansions of codebook vectors\n",
    "dimansions = [10, 25, 40, 50]\n",
    "\n",
    "# Define a dict for save the outputs of models\n",
    "outputs_dims = {}\n",
    "\n",
    "# Loop through the number of codebook vectors\n",
    "for dim in dimansions:\n",
    "    \n",
    "    # Create a model and move to the device\n",
    "    model_rgb = VQVAERGB(numvectors=3, dimvectors=dim).to(device)\n",
    "    \n",
    "    # train for 20 epochs\n",
    "    output_batch = train_rgb(model_rgb = model_rgb , num_epochs = 20 )\n",
    "    \n",
    "    # save the outputs for comprasion\n",
    "    outputs_dims[dim] = output_batch\n",
    "    "
   ]
  },
  {
   "cell_type": "code",
   "execution_count": 44,
   "id": "181fd751",
   "metadata": {},
   "outputs": [],
   "source": [
    "# A function for plot RGB image as a grid\n",
    "def plot_rgb_grid(output_batch, title):\n",
    "    \n",
    "    batch = output_batch.detach()\n",
    "    images = []\n",
    "    \n",
    "    for i in range(4):\n",
    "        img_rgb_gen = rgb_to_plot(batch[i].reshape(3, 28, 28))\n",
    "        images.append(img_rgb_gen)\n",
    "    \n",
    "    \n",
    "    # Create a 2x2 grid of subplots\n",
    "    fig, axs = plt.subplots(2, 2, figsize=(4, 4))\n",
    "\n",
    "    # Plot each RGB image on the subplots\n",
    "    axs[0, 0].imshow(images[0])\n",
    "    axs[0, 1].imshow(images[1])\n",
    "    axs[1, 0].imshow(images[2])\n",
    "    axs[1, 1].imshow(images[3])\n",
    "\n",
    "    # Hide the x and y axis labels\n",
    "    for ax in axs.flat:\n",
    "        ax.set(xlabel='', ylabel='')\n",
    "        ax.get_xaxis().set_visible(False)\n",
    "        ax.get_yaxis().set_visible(False)\n",
    "\n",
    "    # Set a title for the entire grid\n",
    "    fig.suptitle(f'Dimansion of Codebook Vectors:{title}', fontsize=16)\n",
    "\n",
    "    # Adjust layout\n",
    "    plt.tight_layout(rect=[0, 0, 1, 0.96])\n",
    "\n",
    "    # Show the plot\n",
    "    plt.show()\n",
    "    plt.figure()"
   ]
  },
  {
   "cell_type": "code",
   "execution_count": 45,
   "id": "9cf0ac11",
   "metadata": {},
   "outputs": [
    {
     "data": {
      "image/png": "[encoded data removed]",
      "text/plain": [
       "<Figure size 400x400 with 4 Axes>"
      ]
     },
     "metadata": {},
     "output_type": "display_data"
    },
    {
     "data": {
      "text/plain": [
       "<Figure size 640x480 with 0 Axes>"
      ]
     },
     "metadata": {},
     "output_type": "display_data"
    },
    {
     "data": {
      "image/png": "[encoded data removed]",
      "text/plain": [
       "<Figure size 400x400 with 4 Axes>"
      ]
     },
     "metadata": {},
     "output_type": "display_data"
    },
    {
     "data": {
      "text/plain": [
       "<Figure size 640x480 with 0 Axes>"
      ]
     },
     "metadata": {},
     "output_type": "display_data"
    },
    {
     "data": {
      "image/png": "[encoded data removed]",
      "text/plain": [
       "<Figure size 400x400 with 4 Axes>"
      ]
     },
     "metadata": {},
     "output_type": "display_data"
    },
    {
     "data": {
      "text/plain": [
       "<Figure size 640x480 with 0 Axes>"
      ]
     },
     "metadata": {},
     "output_type": "display_data"
    },
    {
     "data": {
      "image/png": "[encoded data removed]",
      "text/plain": [
       "<Figure size 400x400 with 4 Axes>"
      ]
     },
     "metadata": {},
     "output_type": "display_data"
    },
    {
     "data": {
      "text/plain": [
       "<Figure size 640x480 with 0 Axes>"
      ]
     },
     "metadata": {},
     "output_type": "display_data"
    }
   ],
   "source": [
    "# Loop through the dimansions and plot outputs\n",
    "for dim in dimansions:\n",
    "    plot_rgb_grid(outputs_dims[dim], dim)"
   ]
  },
  {
   "cell_type": "markdown",
   "id": "440daff5",
   "metadata": {},
   "source": [
    "### As you see with 3 vectors, increasing the dimansion of the vectors doesn't help us and the outputs and losses are not good enough. I train the model for 20 epochs with dimansions of 10, 25, 40, 50. I got total loss 0.0411, 0.0451, 0.0407, 0409 respectively. Increasing the number of vectors(as you see in previous part) gives us much more better results!!"
   ]
  },
  {
   "cell_type": "markdown",
   "id": "3cf6353f",
   "metadata": {},
   "source": [
    "# **********************************************************************************************"
   ]
  }
 ],
 "metadata": {
  "colab": {
   "provenance": []
  },
  "kernelspec": {
   "display_name": "Python 3 (ipykernel)",
   "language": "python",
   "name": "python3"
  },
  "language_info": {
   "codemirror_mode": {
    "name": "ipython",
    "version": 3
   },
   "file_extension": ".py",
   "mimetype": "text/x-python",
   "name": "python",
   "nbconvert_exporter": "python",
   "pygments_lexer": "ipython3",
   "version": "3.10.10"
  }
 },
 "nbformat": 4,
 "nbformat_minor": 5
}
